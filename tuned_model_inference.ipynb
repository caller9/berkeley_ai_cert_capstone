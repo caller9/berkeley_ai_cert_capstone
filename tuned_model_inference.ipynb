{
 "cells": [
  {
   "cell_type": "markdown",
   "id": "a8c7cf74-1153-4dff-9ff9-fcb215c83b4d",
   "metadata": {},
   "source": [
    "# Test inference on the fine-tuned, merged model.\n",
    "\n",
    "This notebook requires that you have first run the `fine_tune.ipynb` notebook to generate the `merged-fine-tuned` model and tokenizer. This is a utility notebook to load the new model and run inference a few times."
   ]
  },
  {
   "cell_type": "code",
   "execution_count": null,
   "id": "20be6861-460c-4b21-86c4-5da216c29744",
   "metadata": {},
   "outputs": [],
   "source": [
    "import torch\n",
    "from transformers import (\n",
    "    AutoModelForCausalLM,\n",
    "    AutoTokenizer,\n",
    ")"
   ]
  },
  {
   "cell_type": "code",
   "execution_count": null,
   "id": "0d17cc09-1a98-44b8-b077-e47cc79cdc75",
   "metadata": {},
   "outputs": [],
   "source": [
    "merged_model_dir = \"merged-fine-tuned\"\n",
    "#merged_model_dir = \"mistralai/Mistral-7B-Instruct-v0.1\"\n",
    "\n",
    "device_map = {\"\": 0}\n",
    "\n",
    "device = \"cuda\""
   ]
  },
  {
   "cell_type": "code",
   "execution_count": null,
   "id": "76064767-548e-4774-94e6-0039be93c1bf",
   "metadata": {},
   "outputs": [],
   "source": [
    "merged_model = AutoModelForCausalLM.from_pretrained(\n",
    "    merged_model_dir,\n",
    "    low_cpu_mem_usage=True,\n",
    "    return_dict=True,\n",
    "    torch_dtype=torch.float16,\n",
    "    device_map=device_map,\n",
    ")\n",
    "\n",
    "tokenizer = AutoTokenizer.from_pretrained(merged_model_dir)\n",
    "tokenizer.pad_token = tokenizer.eos_token\n",
    "tokenizer.padding_side = \"right\""
   ]
  },
  {
   "cell_type": "code",
   "execution_count": null,
   "id": "4b05e75d-c2ac-439b-9ce5-9dfd903d27a9",
   "metadata": {},
   "outputs": [],
   "source": [
    "def send_to_model(msg):\n",
    "    messages = [\n",
    "        {\"role\": \"user\", \"content\": msg},\n",
    "    ]\n",
    "    \n",
    "    encoded = tokenizer.apply_chat_template(messages, return_tensors=\"pt\").to(device)\n",
    "    \n",
    "    generated_ids = merged_model.generate(encoded, max_new_tokens=1000, do_sample=True, pad_token_id=tokenizer.eos_token_id, temperature=0.4,  repetition_penalty=1.20)\n",
    "    decoded = tokenizer.batch_decode(generated_ids, skip_special_tokens=True)\n",
    "    return decoded\n",
    "\n",
    "def send_chat(msg):\n",
    "    result = send_to_model(msg)[0]\n",
    "    return result.rsplit(\" [/INST] \", 1)[1]\n",
    "\n",
    "def print_chat(msg):\n",
    "    print(send_chat(msg))"
   ]
  },
  {
   "cell_type": "code",
   "execution_count": null,
   "id": "ea32d598-c8d3-413b-a839-b1870938019c",
   "metadata": {},
   "outputs": [],
   "source": [
    "print_chat(\"How much wood would a woodchuck chuck if a woodchuck could chuck wood?\")"
   ]
  },
  {
   "cell_type": "code",
   "execution_count": null,
   "id": "1e967f02-c578-46e8-b27b-5fe53ae2803c",
   "metadata": {},
   "outputs": [],
   "source": [
    "print_chat(\"How do I make a bulleted list in markdown?\")"
   ]
  },
  {
   "cell_type": "code",
   "execution_count": null,
   "id": "00473161-8009-4271-a9ad-e74274bca3de",
   "metadata": {},
   "outputs": [],
   "source": [
    "print_chat(\"What is your favorite magazine?\")"
   ]
  },
  {
   "cell_type": "code",
   "execution_count": null,
   "id": "1b771ce4-674b-44fc-a739-10e93db87012",
   "metadata": {},
   "outputs": [],
   "source": [
    "print_chat(\"If you hade 3 plates and you ate off of one of them, how many plates would you have left? Explain it step by step.\")"
   ]
  },
  {
   "cell_type": "code",
   "execution_count": null,
   "id": "9cc7afce-f57d-41ba-9edb-1c61fc1a7c51",
   "metadata": {},
   "outputs": [],
   "source": [
    "document = \"\"\"\n",
    "Good evening to everyone,\n",
    "\n",
    "In partnership with Wizbang ISD, ACME will be requiring that school pick-up traffic for Boba Fett Elementary and Ashoka Tano Middle School utilize the school pick up lines going forward and cease using the ACME parking lot for pick-up in any capacity. This is to ensure that District approved pick-up safety plans are followed and provides the safest avenue for student pick-up after school. The Mos Eisley County Sheriff's Office will be on-site for the next two weeks at ACME to redirect all traffic relating to school pick-ups to the appropriate school pick-up line as well as will be giving out citations for standing in designated No Parking zones or sitting on the curb where standing is not allowed.\n",
    "\n",
    "Should you have any questions, please email us at roundfile@localhost, or contact school administration.\n",
    "\n",
    "Thank you and we appreciate everyone's cooperation with this safety initiative,\n",
    "\n",
    "ACME Management\n",
    "\"\"\"\n",
    "\n",
    "print_chat(f\"Summarize: {document}\")"
   ]
  },
  {
   "cell_type": "code",
   "execution_count": null,
   "id": "f352823a-8d87-4c84-81f8-ab1e20af4001",
   "metadata": {},
   "outputs": [],
   "source": [
    "print_chat(\"How do you say welcome to dinner in Spanish?\")"
   ]
  }
 ],
 "metadata": {
  "kernelspec": {
   "display_name": "Python 3 (ipykernel)",
   "language": "python",
   "name": "python3"
  },
  "language_info": {
   "codemirror_mode": {
    "name": "ipython",
    "version": 3
   },
   "file_extension": ".py",
   "mimetype": "text/x-python",
   "name": "python",
   "nbconvert_exporter": "python",
   "pygments_lexer": "ipython3",
   "version": "3.11.6"
  }
 },
 "nbformat": 4,
 "nbformat_minor": 5
}
