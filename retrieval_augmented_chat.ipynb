{
 "cells": [
  {
   "cell_type": "markdown",
   "id": "da28ba98-c899-441a-9ea6-a78a7c7c9716",
   "metadata": {},
   "source": [
    "# Retrieval augmented chat\n",
    "\n",
    "This notebook is the primary demonstration of the project. Here we'll bring up the tuned model and vector database and start asking questions both with and without fine tuning or the vector database."
   ]
  },
  {
   "cell_type": "code",
   "execution_count": 26,
   "id": "ea286197-5a87-4f1b-abc3-bef2298a37c4",
   "metadata": {},
   "outputs": [],
   "source": [
    "import chromadb\n",
    "import torch\n",
    "from transformers import (\n",
    "    AutoModelForCausalLM,\n",
    "    AutoTokenizer,\n",
    ")\n",
    "from IPython.display import Markdown, display"
   ]
  },
  {
   "cell_type": "markdown",
   "id": "d99fd829-3019-4de8-b27c-947c8a7f2d9b",
   "metadata": {},
   "source": [
    "## Initialize some variables"
   ]
  },
  {
   "cell_type": "code",
   "execution_count": 7,
   "id": "5a05ed5f-66ef-4cc5-9813-736405bdefdf",
   "metadata": {},
   "outputs": [],
   "source": [
    "client = chromadb.PersistentClient(path=\"db/\")\n",
    "collection_name = \"Corpus\"\n",
    "merged_model_dir = \"merged-fine-tuned\"\n",
    "device_map = {\"\": 0}\n",
    "device = \"cuda\""
   ]
  },
  {
   "cell_type": "markdown",
   "id": "c035b376-3b51-4da9-a4fd-23f2a7d2f5fc",
   "metadata": {},
   "source": [
    "## Load the collection"
   ]
  },
  {
   "cell_type": "code",
   "execution_count": 3,
   "id": "6c10f83e-c140-4e54-8dd9-be410440bd58",
   "metadata": {},
   "outputs": [],
   "source": [
    "collection = client.get_collection(name = collection_name)"
   ]
  },
  {
   "cell_type": "markdown",
   "id": "acde5370-9aa9-4138-8e0e-a52e17c0f6db",
   "metadata": {},
   "source": [
    "## Load the model"
   ]
  },
  {
   "cell_type": "code",
   "execution_count": 8,
   "id": "49a41d92-5a28-4668-8e8b-2f37bf0180e3",
   "metadata": {},
   "outputs": [
    {
     "data": {
      "application/vnd.jupyter.widget-view+json": {
       "model_id": "f544321d3125476a8a2a00aca2b37699",
       "version_major": 2,
       "version_minor": 0
      },
      "text/plain": [
       "Loading checkpoint shards:   0%|          | 0/2 [00:00<?, ?it/s]"
      ]
     },
     "metadata": {},
     "output_type": "display_data"
    }
   ],
   "source": [
    "merged_model = AutoModelForCausalLM.from_pretrained(\n",
    "    merged_model_dir,\n",
    "    low_cpu_mem_usage=True,\n",
    "    return_dict=True,\n",
    "    torch_dtype=torch.float16,\n",
    "    device_map=device_map,\n",
    ")\n",
    "\n",
    "tokenizer = AutoTokenizer.from_pretrained(merged_model_dir)\n",
    "tokenizer.pad_token = tokenizer.eos_token\n",
    "tokenizer.padding_side = \"right\""
   ]
  },
  {
   "cell_type": "code",
   "execution_count": 20,
   "id": "179fa16b-0172-45a1-b237-0d702a00e4ff",
   "metadata": {},
   "outputs": [],
   "source": [
    "def send_to_model(msg):\n",
    "    messages = [\n",
    "        {\"role\": \"user\", \"content\": msg},\n",
    "    ]\n",
    "    \n",
    "    encoded = tokenizer.apply_chat_template(messages, return_tensors=\"pt\").to(device)\n",
    "    \n",
    "    generated_ids = merged_model.generate(encoded, max_new_tokens=1000, do_sample=True, pad_token_id=tokenizer.eos_token_id, temperature=0.8)\n",
    "    decoded = tokenizer.batch_decode(generated_ids, skip_special_tokens=True)\n",
    "    return decoded\n",
    "\n",
    "def send_chat(msg):\n",
    "    result = send_to_model(msg)[0]\n",
    "    return result.rsplit(\" [/INST] \", 1)[1]\n",
    "\n",
    "def basic_chat(msg):\n",
    "    print(send_chat(msg))"
   ]
  },
  {
   "cell_type": "code",
   "execution_count": null,
   "id": "551660eb-3f81-434e-8029-f0babd9b7969",
   "metadata": {},
   "outputs": [],
   "source": [
    "basic_chat(\"How do I loop a GIF?\")"
   ]
  },
  {
   "cell_type": "code",
   "execution_count": 45,
   "id": "b632cef2-dec6-4f72-89e8-d09ee214dcaa",
   "metadata": {},
   "outputs": [],
   "source": [
    "def printmd(string):\n",
    "    display(Markdown(string))\n",
    "    \n",
    "def retrieval_augmented_chat(msg):\n",
    "    query_result = collection.query(\n",
    "        query_texts=[msg], \n",
    "        n_results=2\n",
    "    )\n",
    "    question_with_context = \"\"\n",
    "    if len(query_result['documents'][0]) > 0:\n",
    "        question_with_context = \"Based on the following documents:\\n\" + \"\\n\\n\".join(query_result['documents'][0]) + \"\\n Answer the following question with lots of details: \"\n",
    "    question_with_context += msg\n",
    "    model_response = send_chat(question_with_context)\n",
    "\n",
    "    doc_links = \"\"\n",
    "    if len(query_result['metadatas'][0]) > 0:\n",
    "        doc_links = \"\\n\\n **Reference documents:** \\n\\n\"\n",
    "        for i in range(0, len(query_result['metadatas'][0])):\n",
    "            source = query_result['metadatas'][0][i]['source']\n",
    "            score = query_result['distances'][0][i]\n",
    "            doc_links += f\"* [{source}]({source}) score: {score:3.2f}\\n\"\n",
    "    return model_response + doc_links\n",
    "\n"
   ]
  },
  {
   "cell_type": "code",
   "execution_count": 46,
   "id": "29b0024a-5c2d-42bf-bbba-3533b3cf2fb1",
   "metadata": {},
   "outputs": [
    {
     "data": {
      "text/markdown": [
       "To loop a GIF, you can use a command-line tool called ImageMagick. ImageMagick is an open-source collection of image processing tools that can be used to manipulate and convert images. To loop a GIF using ImageMagick, you can use the `convert` command followed by various options. Here is an example of how you can loop a GIF called `example.gif`:\n",
       "```bash\n",
       "convert example.gif -loop 0 example_looped.gif\n",
       "```\n",
       "In this example, the `-loop 0` option tells ImageMagick to loop the GIF indefinitely. The output filename `example_looped.gif` is where the looped GIF will be saved.\n",
       "\n",
       "If you want to loop the GIF for a specific number of times, you can use the `-loop` option followed by the number of times you want the GIF to loop. For example, to loop the GIF 5 times, you would use the following command:\n",
       "```bash\n",
       "convert example.gif -loop 5 example_looped.gif\n",
       "```\n",
       "In this example, the GIF will loop 5 times before stopping. The output filename `example_looped.gif` is where the looped GIF will be saved.\n",
       "\n",
       "You can also specify the frame delay time between each loop using the `-delay` option. For example, to loop the GIF with a delay of 100 milliseconds between each loop, you would use the following command:\n",
       "```bash\n",
       "convert example.gif -delay 100 -loop 0 example_looped.gif\n",
       "```\n",
       "In this example, the GIF will loop indefinitely with a delay of 100 milliseconds between each loop. The output filename `example_looped.gif` is where the looped GIF will be saved.\n",
       "\n",
       "If you are using macOS, you can install ImageMagick using Homebrew by running the following command in your terminal:\n",
       "```bash\n",
       "brew install imagemagick\n",
       "```\n",
       "Once ImageMagick is installed, you can use the `convert` command as described above to loop your GIF.\n",
       "\n",
       " **Reference documents:** \n",
       "\n",
       "* [corpus/imagemagick/set-a-gif-to-loop.md](corpus/imagemagick/set-a-gif-to-loop.md) score: 0.97\n",
       "* [corpus/imagemagick/compress-animated-gif.md](corpus/imagemagick/compress-animated-gif.md) score: 1.28\n"
      ],
      "text/plain": [
       "<IPython.core.display.Markdown object>"
      ]
     },
     "metadata": {},
     "output_type": "display_data"
    }
   ],
   "source": [
    "printmd(retrieval_augmented_chat(\"How do I loop a GIF?\"))"
   ]
  },
  {
   "cell_type": "code",
   "execution_count": 47,
   "id": "bbd178ea-8f8d-4a0f-a4ce-9bcde8dffd6d",
   "metadata": {},
   "outputs": [
    {
     "data": {
      "text/markdown": [
       "Yes, you can use `npx` with GitHub actions. GitHub actions allow you to run scripts with Node.js and install dependencies using `npm`. If you want to use a package installed via `npx`, you can either install it as a dependency in your repository with `npm install [package]`, or you can use `npx` to run the package as a single command.\n",
       "\n",
       "When using `npx`, you do not need to have a `package.json` file in your repository. Instead, you can specify the package name and version as arguments in your script. For example, if you have a package called `my-package` that you want to install via `npx` and run as a command, you can include the following line in your script:\n",
       "```javascript\n",
       "npx my-package [options]\n",
       "```\n",
       "Replace `my-package` with the name of your package and `[options]` with any arguments you want to pass to the package. If your package does not have a `bin` field in its `package.json` file, you may need to specify the command you want to run as the first argument.\n",
       "\n",
       " **Reference documents:** \n",
       "\n",
       "* [corpus/github-actions/npm-cache-with-npx-no-package.md](corpus/github-actions/npm-cache-with-npx-no-package.md) score: 0.88\n",
       "* [corpus/github-actions/attach-generated-file-to-release.md](corpus/github-actions/attach-generated-file-to-release.md) score: 1.11\n"
      ],
      "text/plain": [
       "<IPython.core.display.Markdown object>"
      ]
     },
     "metadata": {},
     "output_type": "display_data"
    }
   ],
   "source": [
    "printmd(retrieval_augmented_chat(\"Can I use npx with GitHub actions?\"))"
   ]
  },
  {
   "cell_type": "code",
   "execution_count": null,
   "id": "69e3ed6c-25c5-43b4-a3fb-b7dc52dba8df",
   "metadata": {},
   "outputs": [],
   "source": []
  }
 ],
 "metadata": {
  "kernelspec": {
   "display_name": "Python 3 (ipykernel)",
   "language": "python",
   "name": "python3"
  },
  "language_info": {
   "codemirror_mode": {
    "name": "ipython",
    "version": 3
   },
   "file_extension": ".py",
   "mimetype": "text/x-python",
   "name": "python",
   "nbconvert_exporter": "python",
   "pygments_lexer": "ipython3",
   "version": "3.11.6"
  }
 },
 "nbformat": 4,
 "nbformat_minor": 5
}
