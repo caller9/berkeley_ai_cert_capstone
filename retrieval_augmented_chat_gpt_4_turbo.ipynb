{
 "cells": [
  {
   "cell_type": "markdown",
   "id": "da28ba98-c899-441a-9ea6-a78a7c7c9716",
   "metadata": {},
   "source": [
    "# Retrieval augmented chat - ChatGPT 4 Turbo (preview)\n",
    "\n",
    "This notebook is the primary demonstration of the project with the ChatGPT 4 Turbo previe model. Here we'll use the OpenAI API and vector database and start asking questions both with and without the vector database."
   ]
  },
  {
   "cell_type": "code",
   "execution_count": 1,
   "id": "ea286197-5a87-4f1b-abc3-bef2298a37c4",
   "metadata": {},
   "outputs": [],
   "source": [
    "import json"
   ]
  },
  {
   "cell_type": "markdown",
   "id": "d99fd829-3019-4de8-b27c-947c8a7f2d9b",
   "metadata": {},
   "source": [
    "## Initialize some variables"
   ]
  },
  {
   "cell_type": "code",
   "execution_count": 2,
   "id": "5a05ed5f-66ef-4cc5-9813-736405bdefdf",
   "metadata": {},
   "outputs": [],
   "source": [
    "collection_name = \"Corpus\"\n",
    "database_top_n_results = 2\n",
    "openai_model=\"gpt-4-1106-preview\""
   ]
  },
  {
   "cell_type": "markdown",
   "id": "6a299a70-0e8f-4947-b8a5-af2b37a32bc3",
   "metadata": {},
   "source": [
    "## Load shared code\n",
    "This file defines the `OpenAiChatModel` and `Retrieval` classes used below."
   ]
  },
  {
   "cell_type": "code",
   "execution_count": 3,
   "id": "9c0127f1-910c-49b6-9210-97d8b68ef671",
   "metadata": {},
   "outputs": [],
   "source": [
    "%run shared_code.ipynb"
   ]
  },
  {
   "cell_type": "markdown",
   "id": "acde5370-9aa9-4138-8e0e-a52e17c0f6db",
   "metadata": {},
   "source": [
    "## Read OpenAI API credentials\n",
    "\n",
    "We read the OpenAI credentials from a `openai.json` file with the following format:\n",
    "\n",
    "```json\n",
    "{\n",
    "    \"api_key\": \"YOUR_API_KEY\",\n",
    "    \"organization\": \"YOUR_ORGANIZATION_ID\"\n",
    "}\n",
    "```\n",
    "\n",
    "You'll need your own credentials, mine are not checked into the repository."
   ]
  },
  {
   "cell_type": "code",
   "execution_count": 4,
   "id": "49a41d92-5a28-4668-8e8b-2f37bf0180e3",
   "metadata": {},
   "outputs": [],
   "source": [
    "with open('openai.json', 'r') as f:\n",
    "    data = json.load(f)\n",
    "    openai_api_key = data['api_key']\n",
    "    openai_organization = data['organization']"
   ]
  },
  {
   "cell_type": "markdown",
   "id": "10163ab3-e55c-403b-96f9-7d0d338cb18c",
   "metadata": {},
   "source": [
    "## Load the OpenAiChatModel class from `shared_code.ipynb`"
   ]
  },
  {
   "cell_type": "code",
   "execution_count": 5,
   "id": "064cd72c-2f70-49b6-8862-30d56ec9d42d",
   "metadata": {},
   "outputs": [],
   "source": [
    "chat_model = OpenAiChatModel(openai_organization, openai_api_key, openai_model)"
   ]
  },
  {
   "cell_type": "markdown",
   "id": "160c18cc-2fd8-46b5-a107-1d21c494187a",
   "metadata": {},
   "source": [
    "## Trying the model without access to the vector database."
   ]
  },
  {
   "cell_type": "code",
   "execution_count": 6,
   "id": "551660eb-3f81-434e-8029-f0babd9b7969",
   "metadata": {},
   "outputs": [
    {
     "name": "stdout",
     "output_type": "stream",
     "text": [
      "Looping a GIF typically refers to playing the animation repeatedly without any user intervention. Most GIF files are already encoded to loop by default, but if you need to control the looping behavior, you can do so in a couple of ways depending on how you're using the GIF.\n",
      "\n",
      "### If you're viewing a GIF in a web browser:\n",
      "\n",
      "Most web browsers will automatically loop a GIF indefinitely. If you find a GIF that does not loop and you want it to, you may need to edit the GIF file itself using an image editing tool that supports GIF animations (like Adobe Photoshop, GIMP, or an online GIF editor).\n",
      "\n",
      "### If you're editing or creating a GIF:\n",
      "\n",
      "1. **Using an Image Editor (like Photoshop or GIMP):**\n",
      "   - Open the GIF in your image editing software.\n",
      "   - Look for the animation or timeline panel where you can see each frame of the GIF.\n",
      "   - There should be an option to set the number of loops. Set this to 'Forever' or 'Infinite' to make the GIF loop continuously.\n",
      "   - Save the GIF with these new loop settings.\n",
      "\n",
      "2. **Online GIF Editors:**\n",
      "   - Upload your GIF to an online GIF editor like EZGIF or Giphy's GIF maker.\n",
      "   - Look for an option to edit the animation settings or loop count.\n",
      "   - Set the loop count to 'Forever' or the maximum number it allows for continuous looping.\n",
      "   - Save or download the edited GIF.\n",
      "\n",
      "### If you're embedding a GIF in HTML:\n",
      "\n",
      "When embedding a GIF in a webpage using HTML, you don't need to do anything special to make it loop because it should loop automatically. However, if you want to control the looping with JavaScript, you can manipulate the `src` attribute of the `img` tag to restart the GIF animation.\n",
      "\n",
      "Here's a simple example of how to restart a GIF with JavaScript:\n",
      "\n",
      "```html\n",
      "<img id=\"myGif\" src=\"my-animation.gif\" alt=\"My Looping GIF\">\n",
      "\n",
      "<script>\n",
      "  var gif = document.getElementById('myGif');\n",
      "  gif.addEventListener('click', function() {\n",
      "    var src = gif.src;\n",
      "    gif.src = '';\n",
      "    gif.src = src;\n",
      "  });\n",
      "</script>\n",
      "```\n",
      "\n",
      "In this example, clicking the GIF will reset its `src` attribute, causing the browser to reload and restart the animation.\n",
      "\n",
      "### If you're using a GIF in a desktop application:\n",
      "\n",
      "Most desktop applications that support GIFs will loop them automatically. If you're creating a presentation or a document, just insert the GIF, and it should play in a loop during the presentation or while viewing the document.\n",
      "\n",
      "If you need to adjust the loop settings of the GIF for use in a desktop application, you would typically use an image editor as described above to edit the GIF loop count before inserting it into your document or presentation.\n"
     ]
    }
   ],
   "source": [
    "chat_model.basic_chat(\"How do I loop a GIF?\")"
   ]
  },
  {
   "cell_type": "markdown",
   "id": "c035b376-3b51-4da9-a4fd-23f2a7d2f5fc",
   "metadata": {},
   "source": [
    "## Load the collection into the RetrievalAugmentedChat class from `shared_code.ipynb`"
   ]
  },
  {
   "cell_type": "code",
   "execution_count": 7,
   "id": "a7888382-4a37-4612-b7ef-3fa2a132d4c3",
   "metadata": {},
   "outputs": [],
   "source": [
    "rac = RetrievalAugmentedChat(\"db/\", collection_name, database_top_n_results, chat_model)"
   ]
  },
  {
   "cell_type": "markdown",
   "id": "8476ee89-d947-44e2-9c82-6797396cd3b2",
   "metadata": {},
   "source": [
    "## Run retrieval augmented chat\n",
    "Notice that the responses have switched from a general HTML/JavaScript context to include the document contents which provide examples of encoding the gif with ImageMagick so that it loops by default."
   ]
  },
  {
   "cell_type": "code",
   "execution_count": 8,
   "id": "29b0024a-5c2d-42bf-bbba-3533b3cf2fb1",
   "metadata": {},
   "outputs": [
    {
     "data": {
      "text/markdown": [
       "Looping a GIF refers to the process of making the animation repeat itself indefinitely or a specified number of times. There are various tools and methods you can use to loop a GIF, but one of the most popular and powerful tools for this purpose is ImageMagick, a command-line utility that allows for image manipulation.\n",
       "\n",
       "Here's a detailed step-by-step guide on how to loop a GIF using ImageMagick:\n",
       "\n",
       "### Step 1: Install ImageMagick\n",
       "\n",
       "Before you can use ImageMagick, you need to have it installed on your system. For macOS users, the installation can be done using Homebrew, a package manager for macOS, with the following command:\n",
       "\n",
       "```bash\n",
       "brew install imagemagick\n",
       "```\n",
       "\n",
       "For users on other operating systems, you can download and install ImageMagick from the official website or use the respective package manager for your system (e.g., `apt-get` for Ubuntu, `yum` for CentOS).\n",
       "\n",
       "### Step 2: Prepare Your GIF\n",
       "\n",
       "Ensure you have the GIF file that you want to loop saved on your computer. If you need to make any edits to the GIF, such as deleting frames or adjusting the size, do so before proceeding to the looping process.\n",
       "\n",
       "### Step 3: Use ImageMagick to Loop the GIF\n",
       "\n",
       "Open your terminal or command prompt, navigate to the directory where your GIF is located, and run the following ImageMagick command to set the GIF to loop:\n",
       "\n",
       "```bash\n",
       "convert input.gif -loop 0 output.gif\n",
       "```\n",
       "\n",
       "Replace `input.gif` with the filename of your GIF, and `output.gif` with the desired filename for the looped GIF.\n",
       "\n",
       "Here's what each part of the command does:\n",
       "\n",
       "- `convert`: This is the ImageMagick command-line tool used for converting and modifying images.\n",
       "- `input.gif`: The source GIF file you want to loop.\n",
       "- `-loop 0`: The `-loop` option sets the number of loops for the GIF animation. Setting it to `0` will make the GIF loop indefinitely. If you want the GIF to loop a specific number of times, replace `0` with that number.\n",
       "- `output.gif`: The filename for the new looped GIF that will be created.\n",
       "\n",
       "### Step 4: Verify the Loop\n",
       "\n",
       "After running the command, you should have a new GIF file in the same directory with the name you specified as `output.gif`. Open this file in a web browser or a media player that supports GIF animations to verify that it loops as expected.\n",
       "\n",
       "### Additional Notes\n",
       "\n",
       "- The `convert` command is part of ImageMagick version 6 and below. If you're using ImageMagick version 7 or above, the command has been replaced with `magick`, so the command would be:\n",
       "  \n",
       "  ```bash\n",
       "  magick input.gif -loop 0 output.gif\n",
       "  ```\n",
       "\n",
       "- Always make sure to back up your original GIF before running any modification commands, in case you need to revert to the original.\n",
       "\n",
       "- The output filename must come after the `-loop` option in the command.\n",
       "\n",
       "By following these steps, you can easily loop a GIF using ImageMagick, making it play continuously for use on websites, in presentations, or for sharing on social media platforms.\n",
       "\n",
       " **Reference documents:** \n",
       "\n",
       "* [corpus/imagemagick/set-a-gif-to-loop.md](corpus/imagemagick/set-a-gif-to-loop.md) distance: 0.97\n",
       "* [corpus/imagemagick/compress-animated-gif.md](corpus/imagemagick/compress-animated-gif.md) distance: 1.28\n",
       "\n",
       "**Inference time in seconds 44.0031**\n"
      ],
      "text/plain": [
       "<IPython.core.display.Markdown object>"
      ]
     },
     "metadata": {},
     "output_type": "display_data"
    }
   ],
   "source": [
    "rac.markdown_chat(\"How do I loop a GIF?\")"
   ]
  },
  {
   "cell_type": "code",
   "execution_count": 9,
   "id": "bbd178ea-8f8d-4a0f-a4ce-9bcde8dffd6d",
   "metadata": {},
   "outputs": [
    {
     "data": {
      "text/markdown": [
       "Yes, you can use `npx` with GitHub Actions. `npx` is a package runner tool that comes with `npm`, which is the default package manager for Node.js. It allows you to execute Node.js binaries from packages that may or may not be installed in your project. This is particularly useful in continuous integration environments like GitHub Actions, where you might want to run a tool without explicitly adding it to your project's dependencies.\n",
       "\n",
       "Here's how you can use `npx` in GitHub Actions:\n",
       "\n",
       "1. **Set up your Node.js environment**: To use `npx`, you need to have Node.js installed in your runner environment. GitHub Actions provides an action called `actions/setup-node` that you can use to set up a Node.js environment with the version of your choice.\n",
       "\n",
       "2. **Use `npx` to run your command**: Once Node.js is set up, you can use `npx` to run the command you need as part of your workflow steps.\n",
       "\n",
       "3. **Cache `npx` downloads**: If you're using `npx` to run tools that are downloaded each time your workflow runs, you can optimize your workflow by caching these downloads. GitHub Actions provides a caching mechanism through `actions/cache`, but it typically relies on a `package.json` file to determine what to cache. However, if you're not using a `package.json` file in your repository, you can still cache `npm` assets by using a custom `cache-dependency-path`. In the example provided, all GitHub Actions workflow YAML files are used as the cache key.\n",
       "\n",
       "Here's an example workflow that sets up Node.js, uses `npx`, and configures caching without a `package.json` file:\n",
       "\n",
       "```yaml\n",
       "name: Example using npx in GitHub Actions\n",
       "\n",
       "on: [push]\n",
       "\n",
       "jobs:\n",
       "  run-npx-command:\n",
       "    runs-on: ubuntu-latest\n",
       "    steps:\n",
       "    - uses: actions/checkout@v2\n",
       "    - uses: actions/setup-node@v2\n",
       "      with:\n",
       "        node-version: '14'\n",
       "        cache: 'npm'\n",
       "        cache-dependency-path: '**/.github/workflows/*.yml'\n",
       "    - name: Run npx command\n",
       "      run: npx get-graphql-schema https://api.fly.io/graphql > flyctl/fly.graphql\n",
       "```\n",
       "\n",
       "In this workflow:\n",
       "\n",
       "- The `actions/checkout` action checks out your repository code.\n",
       "- The `actions/setup-node` action sets up Node.js version 14 and configures the cache for `npm`.\n",
       "- The `run` command uses `npx` to execute the `get-graphql-schema` command and outputs the result to a file.\n",
       "\n",
       "By using `npx` in this manner, you can easily run Node.js tools in your GitHub Actions workflows without the need to manage a `package.json` or install the tools as global dependencies. This can keep your workflows clean and focused, and with caching, you can also reduce the time and bandwidth consumed by repeated downloads of the same packages.\n",
       "\n",
       " **Reference documents:** \n",
       "\n",
       "* [corpus/github-actions/npm-cache-with-npx-no-package.md](corpus/github-actions/npm-cache-with-npx-no-package.md) distance: 0.88\n",
       "* [corpus/github-actions/attach-generated-file-to-release.md](corpus/github-actions/attach-generated-file-to-release.md) distance: 1.11\n",
       "\n",
       "**Inference time in seconds 42.4795**\n"
      ],
      "text/plain": [
       "<IPython.core.display.Markdown object>"
      ]
     },
     "metadata": {},
     "output_type": "display_data"
    }
   ],
   "source": [
    "rac.markdown_chat(\"Can I use npx with GitHub actions?\")"
   ]
  },
  {
   "cell_type": "code",
   "execution_count": null,
   "id": "69e3ed6c-25c5-43b4-a3fb-b7dc52dba8df",
   "metadata": {},
   "outputs": [],
   "source": []
  }
 ],
 "metadata": {
  "kernelspec": {
   "display_name": "Python 3 (ipykernel)",
   "language": "python",
   "name": "python3"
  },
  "language_info": {
   "codemirror_mode": {
    "name": "ipython",
    "version": 3
   },
   "file_extension": ".py",
   "mimetype": "text/x-python",
   "name": "python",
   "nbconvert_exporter": "python",
   "pygments_lexer": "ipython3",
   "version": "3.11.6"
  }
 },
 "nbformat": 4,
 "nbformat_minor": 5
}
