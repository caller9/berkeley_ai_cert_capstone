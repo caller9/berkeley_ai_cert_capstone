{
 "cells": [
  {
   "cell_type": "markdown",
   "id": "da28ba98-c899-441a-9ea6-a78a7c7c9716",
   "metadata": {},
   "source": [
    "# Retrieval augmented chat - ChatGPT 4 Turbo (preview)\n",
    "\n",
    "This notebook is the primary demonstration of the project with the ChatGPT 4 Turbo previe model. Here we'll use the OpenAI API and vector database and start asking questions both with and without the vector database."
   ]
  },
  {
   "cell_type": "code",
   "execution_count": 1,
   "id": "ea286197-5a87-4f1b-abc3-bef2298a37c4",
   "metadata": {},
   "outputs": [],
   "source": [
    "import json"
   ]
  },
  {
   "cell_type": "markdown",
   "id": "d99fd829-3019-4de8-b27c-947c8a7f2d9b",
   "metadata": {},
   "source": [
    "## Initialize some variables"
   ]
  },
  {
   "cell_type": "code",
   "execution_count": 2,
   "id": "5a05ed5f-66ef-4cc5-9813-736405bdefdf",
   "metadata": {},
   "outputs": [],
   "source": [
    "collection_name = \"Corpus\"\n",
    "database_top_n_results = 2\n",
    "openai_model=\"gpt-4-1106-preview\""
   ]
  },
  {
   "cell_type": "markdown",
   "id": "6a299a70-0e8f-4947-b8a5-af2b37a32bc3",
   "metadata": {},
   "source": [
    "## Load shared code\n",
    "This file defines the `OpenAiChatModel` and `Retrieval` classes used below."
   ]
  },
  {
   "cell_type": "code",
   "execution_count": 3,
   "id": "9c0127f1-910c-49b6-9210-97d8b68ef671",
   "metadata": {},
   "outputs": [],
   "source": [
    "%run shared_code.ipynb"
   ]
  },
  {
   "cell_type": "markdown",
   "id": "acde5370-9aa9-4138-8e0e-a52e17c0f6db",
   "metadata": {},
   "source": [
    "## Read OpenAI API credentials\n",
    "\n",
    "We read the OpenAI credentials from a `openai.json` file with the following format:\n",
    "\n",
    "```json\n",
    "{\n",
    "    \"api_key\": \"YOUR_API_KEY\",\n",
    "    \"organization\": \"YOUR_ORGANIZATION_ID\"\n",
    "}\n",
    "```\n",
    "\n",
    "You'll need your own credentials, mine are not checked into the repository."
   ]
  },
  {
   "cell_type": "code",
   "execution_count": 4,
   "id": "49a41d92-5a28-4668-8e8b-2f37bf0180e3",
   "metadata": {},
   "outputs": [],
   "source": [
    "with open('openai.json', 'r') as f:\n",
    "    data = json.load(f)\n",
    "    openai_api_key = data['api_key']\n",
    "    openai_organization = data['organization']"
   ]
  },
  {
   "cell_type": "markdown",
   "id": "10163ab3-e55c-403b-96f9-7d0d338cb18c",
   "metadata": {},
   "source": [
    "## Load the OpenAiChatModel class from `shared_code.ipynb`"
   ]
  },
  {
   "cell_type": "code",
   "execution_count": 5,
   "id": "064cd72c-2f70-49b6-8862-30d56ec9d42d",
   "metadata": {},
   "outputs": [],
   "source": [
    "chat_model = OpenAiChatModel(openai_organization, openai_api_key, openai_model)"
   ]
  },
  {
   "cell_type": "markdown",
   "id": "160c18cc-2fd8-46b5-a107-1d21c494187a",
   "metadata": {},
   "source": [
    "## Trying the model without access to the vector database."
   ]
  },
  {
   "cell_type": "code",
   "execution_count": 6,
   "id": "551660eb-3f81-434e-8029-f0babd9b7969",
   "metadata": {},
   "outputs": [
    {
     "name": "stdout",
     "output_type": "stream",
     "text": [
      "Looping a GIF typically refers to playing the animation repeatedly without any user interaction. Most GIF files are already encoded to loop by default when created, but if you have a GIF that does not loop, or you want to control the looping behavior, here are some methods you can use depending on the context:\n",
      "\n",
      "### Using an Image Viewer or Web Browser:\n",
      "\n",
      "1. **Open the GIF**: Most image viewers and web browsers will automatically loop a GIF. Just open the GIF file using your preferred software, and it should loop indefinitely.\n",
      "\n",
      "### Using Online Tools:\n",
      "\n",
      "1. **Find an Online GIF Editor**: Websites like ezgif.com, giphy.com, and others offer online tools to edit GIFs, including setting the loop count.\n",
      "2. **Upload Your GIF**: Use the tool's upload feature to add your GIF to the website.\n",
      "3. **Edit Looping Options**: Look for an option to edit the animation settings or loop count. Set this to \"infinite\" or \"forever\" if you want the GIF to loop continuously.\n",
      "4. **Save and Download**: After setting the loop count, save the changes and download the new version of your GIF.\n",
      "\n",
      "### Using Image Editing Software:\n",
      "\n",
      "1. **Open the GIF in an Image Editor**: Use software like Adobe Photoshop, GIMP, or any other that supports animated GIFs.\n",
      "2. **Check the Animation Timeline**: These programs typically have a timeline panel where you can see each frame of the GIF. Look for a looping option in the timeline settings.\n",
      "3. **Set Looping Options**: Set the looping option to \"Forever\" or a specific number of times you want the GIF to loop.\n",
      "4. **Save the GIF**: Export or save the GIF with the new loop settings.\n",
      "\n",
      "### Using Programming or Scripting:\n",
      "\n",
      "1. **HTML**: If you're displaying the GIF on a webpage, just insert the GIF using the `<img>` tag. It will loop by default.\n",
      "   ```html\n",
      "   <img src=\"path_to_your_gif.gif\" alt=\"Description of GIF\">\n",
      "   ```\n",
      "2. **CSS**: You can't control GIF looping with CSS, but you can hide and show the GIF to simulate stopping and starting.\n",
      "3. **JavaScript**: You can't directly control the loop of a GIF with JavaScript, but you can reload the GIF to restart the animation or replace it with a static image to stop it.\n",
      "\n",
      "### Using Command Line Tools:\n",
      "\n",
      "1. **Install a Command Line Tool**: Tools like ImageMagick can edit GIF properties.\n",
      "2. **Use the Command**: Use a command like the following to set the loop count (0 for infinite):\n",
      "   ```bash\n",
      "   convert input.gif -loop 0 output.gif\n",
      "   ```\n",
      "   This command takes `input.gif`, sets it to loop indefinitely, and saves it as `output.gif`.\n",
      "\n",
      "Remember that if you're working with a GIF that you didn't create, you should have the right to edit and use it according to its copyright or license terms.\n"
     ]
    }
   ],
   "source": [
    "chat_model.basic_chat(\"How do I loop a GIF?\")"
   ]
  },
  {
   "cell_type": "markdown",
   "id": "c035b376-3b51-4da9-a4fd-23f2a7d2f5fc",
   "metadata": {},
   "source": [
    "## Load the collection into the RetrievalAugmentedChat class from `shared_code.ipynb`"
   ]
  },
  {
   "cell_type": "code",
   "execution_count": 7,
   "id": "a7888382-4a37-4612-b7ef-3fa2a132d4c3",
   "metadata": {},
   "outputs": [],
   "source": [
    "rac = RetrievalAugmentedChat(\"db/\", collection_name, database_top_n_results, chat_model)"
   ]
  },
  {
   "cell_type": "markdown",
   "id": "8476ee89-d947-44e2-9c82-6797396cd3b2",
   "metadata": {},
   "source": [
    "## Run retrieval augmented chat\n",
    "Notice that the responses have switched from a general context to include the document contents which provide examples of encoding the gif with ImageMagick so that it loops by default. It even throws in an additional tips section with `mogrify` or `gifcicle` mentioned in the docs to shrink the file."
   ]
  },
  {
   "cell_type": "code",
   "execution_count": 8,
   "id": "29b0024a-5c2d-42bf-bbba-3533b3cf2fb1",
   "metadata": {},
   "outputs": [
    {
     "data": {
      "text/markdown": [
       "Looping a GIF refers to the process of setting the animation to repeat indefinitely or a specified number of times when it's displayed. There are different ways to loop a GIF, depending on the software or tools you are using. Here, we will focus on how to loop a GIF using ImageMagick, a powerful command-line image manipulation tool.\n",
       "\n",
       "### Using ImageMagick to Loop a GIF\n",
       "\n",
       "ImageMagick is a free and open-source software suite for displaying, converting, and editing raster image files. It can be used to create, edit, compose, or convert bitmap images. To use ImageMagick to loop a GIF, you need to have it installed on your system. On macOS, you can install it using Homebrew with the command:\n",
       "\n",
       "```bash\n",
       "brew install imagemagick\n",
       "```\n",
       "\n",
       "Once you have ImageMagick installed, you can use the `convert` command to set a GIF to loop. The syntax for looping a GIF using ImageMagick is as follows:\n",
       "\n",
       "```bash\n",
       "convert input.gif -loop <number_of_loops> output.gif\n",
       "```\n",
       "\n",
       "Here, `input.gif` is the filename of the original GIF, `<number_of_loops>` is the number of times you want the GIF to loop, and `output.gif` is the filename of the new, looped GIF. To make a GIF loop indefinitely, you would set `<number_of_loops>` to 0.\n",
       "\n",
       "For example, if you have a GIF named `my-animation.gif` and you want it to loop forever, you would use the following command:\n",
       "\n",
       "```bash\n",
       "convert my-animation.gif -loop 0 my-animation-looped.gif\n",
       "```\n",
       "\n",
       "This command reads the original GIF, sets it to loop indefinitely (`-loop 0`), and then writes the output to `my-animation-looped.gif`.\n",
       "\n",
       "### Important Notes\n",
       "\n",
       "- The `-loop` option must come before the output filename in the command.\n",
       "- The value `0` is used to loop the GIF indefinitely. If you want the GIF to loop a specific number of times, replace `0` with that number.\n",
       "- The `convert` command is part of ImageMagick version 6. In ImageMagick version 7, the `convert` command has been replaced with `magick`. So, the equivalent command in ImageMagick 7 would be:\n",
       "\n",
       "```bash\n",
       "magick input.gif -loop 0 output.gif\n",
       "```\n",
       "\n",
       "### Additional Tips\n",
       "\n",
       "- Always make sure you have a backup of your original GIF before running these commands, as some operations can overwrite files.\n",
       "- If you're working with a large GIF and want to optimize it or reduce its file size, you can use tools like `gifsicle` or the `mogrify` command from ImageMagick with various options to compress and optimize the GIF.\n",
       "\n",
       "By following these instructions, you should be able to loop any GIF using ImageMagick on your system. Remember that looping a GIF can increase the file size, especially if the original animation is long, so consider optimizing the GIF if necessary.\n",
       "\n",
       " **Reference documents:** \n",
       "\n",
       "* [corpus/imagemagick/set-a-gif-to-loop.md](corpus/imagemagick/set-a-gif-to-loop.md) distance: 0.97\n",
       "* [corpus/imagemagick/compress-animated-gif.md](corpus/imagemagick/compress-animated-gif.md) distance: 1.28\n",
       "\n",
       "**Inference time in seconds 51.1617**\n"
      ],
      "text/plain": [
       "<IPython.core.display.Markdown object>"
      ]
     },
     "metadata": {},
     "output_type": "display_data"
    }
   ],
   "source": [
    "rac.markdown_chat(\"How do I loop a GIF?\")"
   ]
  },
  {
   "cell_type": "code",
   "execution_count": 9,
   "id": "bbd178ea-8f8d-4a0f-a4ce-9bcde8dffd6d",
   "metadata": {},
   "outputs": [
    {
     "data": {
      "text/markdown": [
       "Yes, you can use `npx` with GitHub Actions. `npx` is a package runner tool that comes with `npm`, which is the default package manager for Node.js. It allows you to execute Node packages without installing them globally. This can be particularly useful in CI/CD workflows like those orchestrated by GitHub Actions, where you want to run a package for a task without leaving it on the build server.\n",
       "\n",
       "In the context of GitHub Actions, `npx` can be used to run JavaScript and Node.js tools directly within your workflow steps. Here's how you can use `npx` within a GitHub Actions workflow:\n",
       "\n",
       "1. **Setup Node.js environment**: Before using `npx`, you need to ensure that Node.js is installed in the runner environment. You can do this by using the `actions/setup-node` action, which sets up a Node.js environment with the specified version of Node.js.\n",
       "\n",
       "2. **Use `npx` to run commands**: Once Node.js is set up, you can use `npx` to run any Node.js package that provides a command-line interface (CLI). You do this by adding a step that uses the `run` keyword followed by the `npx` command and the package you want to execute.\n",
       "\n",
       "3. **Cache packages for efficiency**: To avoid downloading the same packages repeatedly in every workflow run, you can use the `actions/cache` functionality. This allows you to cache dependencies and other frequently reused files between workflow runs. In cases where you don't have a `package.json` file, you can customize the `cache-dependency-path` to use other files as part of the cache key.\n",
       "\n",
       "Here's an example of how you might use `npx` in a GitHub Actions workflow:\n",
       "\n",
       "```yaml\n",
       "name: Example using npx\n",
       "\n",
       "on: [push]\n",
       "\n",
       "jobs:\n",
       "  run-npx-command:\n",
       "    runs-on: ubuntu-latest\n",
       "    steps:\n",
       "      - uses: actions/checkout@v2\n",
       "\n",
       "      - name: Setup Node.js\n",
       "        uses: actions/setup-node@v2\n",
       "        with:\n",
       "          node-version: '14'\n",
       "          cache: 'npm'\n",
       "          cache-dependency-path: '**/.github/workflows/*.yml'\n",
       "\n",
       "      - name: Run npx command\n",
       "        run: npx some-npm-package\n",
       "```\n",
       "\n",
       "In this example, the workflow is triggered on every push to the repository. It sets up Node.js version 14 and configures caching for npm packages. Then it runs a command using `npx` to execute `some-npm-package`.\n",
       "\n",
       "The provided documents illustrate two practical use cases for `npx` in GitHub Actions:\n",
       "\n",
       "1. **Using the GitHub Actions cache with `npx`**: The first document describes how to cache `npx` downloads without a `package.json` file by configuring the `actions/setup-node` action with a custom `cache-dependency-path`.\n",
       "\n",
       "2. **Attaching a generated file to a GitHub release using Actions**: The second document shows how to use `npx` indirectly by setting up a GitHub Actions workflow that triggers on the creation of a new release. It uses `actions/github-script` to run a custom script that uploads a generated file as a release asset.\n",
       "\n",
       "In summary, `npx` is a versatile tool that can be integrated into GitHub Actions workflows to run Node.js packages on the fly, making it a valuable asset for automating development tasks and CI/CD pipelines.\n",
       "\n",
       " **Reference documents:** \n",
       "\n",
       "* [corpus/github-actions/npm-cache-with-npx-no-package.md](corpus/github-actions/npm-cache-with-npx-no-package.md) distance: 0.88\n",
       "* [corpus/github-actions/attach-generated-file-to-release.md](corpus/github-actions/attach-generated-file-to-release.md) distance: 1.11\n",
       "\n",
       "**Inference time in seconds 42.8316**\n"
      ],
      "text/plain": [
       "<IPython.core.display.Markdown object>"
      ]
     },
     "metadata": {},
     "output_type": "display_data"
    }
   ],
   "source": [
    "rac.markdown_chat(\"Can I use npx with GitHub actions?\")"
   ]
  },
  {
   "cell_type": "code",
   "execution_count": null,
   "id": "69e3ed6c-25c5-43b4-a3fb-b7dc52dba8df",
   "metadata": {},
   "outputs": [],
   "source": []
  }
 ],
 "metadata": {
  "kernelspec": {
   "display_name": "Python 3 (ipykernel)",
   "language": "python",
   "name": "python3"
  },
  "language_info": {
   "codemirror_mode": {
    "name": "ipython",
    "version": 3
   },
   "file_extension": ".py",
   "mimetype": "text/x-python",
   "name": "python",
   "nbconvert_exporter": "python",
   "pygments_lexer": "ipython3",
   "version": "3.11.6"
  }
 },
 "nbformat": 4,
 "nbformat_minor": 5
}
