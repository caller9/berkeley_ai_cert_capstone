{
 "cells": [
  {
   "cell_type": "markdown",
   "id": "f42f3fed-b5ec-4782-8262-6361b9f7c5be",
   "metadata": {},
   "source": [
    "# Load data into the local vector database\n",
    "\n",
    "This notebook requires that you have downloaded a set of plaintext or markdown documents into the `corpus` folder.\n",
    "\n",
    "In my case I used the CC0 licensed repository https://github.com/ddmee/emanote/tree/master/content\n",
    "\n",
    "To download a copy run the following commands:\n",
    "\n",
    "```bash\n",
    "git clone https://github.com/ddmee/emanote noterepo\n",
    "mkdir corpus\n",
    "cp noterepo/content/2022*.md corpus\n",
    "rm -rf noterepo\n",
    "```"
   ]
  },
  {
   "cell_type": "code",
   "execution_count": 1,
   "id": "801b9792-2970-4cfd-a3c3-dc94cd069cbf",
   "metadata": {},
   "outputs": [],
   "source": [
    "import chromadb\n",
    "import os"
   ]
  },
  {
   "cell_type": "code",
   "execution_count": 2,
   "id": "8f0fe9cb-b06c-44da-917c-fd159c0420ba",
   "metadata": {},
   "outputs": [],
   "source": [
    "client = chromadb.PersistentClient(path=\"db/\")\n",
    "collection_name = \"Corpus\"\n",
    "merged_model_dir = \"merged-fine-tuned\"\n",
    "device = \"cuda\"\n",
    "corpus_dir = \"corpus\""
   ]
  },
  {
   "cell_type": "code",
   "execution_count": 3,
   "id": "31737455-28a8-43d0-823c-7577b4585aa6",
   "metadata": {},
   "outputs": [
    {
     "name": "stdout",
     "output_type": "stream",
     "text": [
      "Removing collection\n"
     ]
    }
   ],
   "source": [
    "if len(client.list_collections()) > 0:\n",
    "    print(\"Removing collection\")\n",
    "    client.delete_collection(name=collection_name)"
   ]
  },
  {
   "cell_type": "code",
   "execution_count": 4,
   "id": "70d21dab-7094-44b0-bd20-ed4856027e7f",
   "metadata": {},
   "outputs": [],
   "source": [
    "collection = client.create_collection(name=collection_name)"
   ]
  },
  {
   "cell_type": "code",
   "execution_count": 5,
   "id": "8de7674a-980e-4507-b465-ea71e4dc9997",
   "metadata": {},
   "outputs": [],
   "source": [
    "def add_file_to_collection(full_path, file_id):\n",
    "    with open(full_path, 'rt') as f:\n",
    "        doc = f.read()\n",
    "        collection.add(documents=[doc], metadatas=[{\"source\": full_path}], ids=[f\"{file_id:09}\"])"
   ]
  },
  {
   "cell_type": "code",
   "execution_count": 6,
   "id": "bea3baaa-4578-4f5e-be16-a2d43bc0122f",
   "metadata": {},
   "outputs": [],
   "source": [
    "file_id = 1\n",
    "for file_name in os.listdir(corpus_dir):\n",
    "    full_path = os.path.join(corpus_dir, file_name)\n",
    "    if os.path.isfile(full_path):\n",
    "        add_file_to_collection(full_path, file_id)\n",
    "        file_id += 1"
   ]
  },
  {
   "cell_type": "code",
   "execution_count": null,
   "id": "5b66d630-14a2-4106-bd83-0a91c4bff991",
   "metadata": {},
   "outputs": [],
   "source": [
    "collection.query(\n",
    "    query_texts=[\"How do I minimize training error?\"], \n",
    "    n_results=2\n",
    ")"
   ]
  },
  {
   "cell_type": "code",
   "execution_count": null,
   "id": "35e4c023-dae1-4f5b-9d0c-5b5e1882afef",
   "metadata": {},
   "outputs": [],
   "source": []
  }
 ],
 "metadata": {
  "kernelspec": {
   "display_name": "Python 3 (ipykernel)",
   "language": "python",
   "name": "python3"
  },
  "language_info": {
   "codemirror_mode": {
    "name": "ipython",
    "version": 3
   },
   "file_extension": ".py",
   "mimetype": "text/x-python",
   "name": "python",
   "nbconvert_exporter": "python",
   "pygments_lexer": "ipython3",
   "version": "3.11.6"
  }
 },
 "nbformat": 4,
 "nbformat_minor": 5
}
