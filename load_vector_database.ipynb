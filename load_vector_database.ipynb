{
 "cells": [
  {
   "cell_type": "markdown",
   "id": "f42f3fed-b5ec-4782-8262-6361b9f7c5be",
   "metadata": {},
   "source": [
    "# Load data into the local vector database\n",
    "\n",
    "This notebook requires that you have downloaded a set of markdown documents into the `corpus` folder.\n",
    "\n",
    "In my case I used the Apache 2.0 licensed repository https://github.com/simonw/til\n",
    "\n",
    "To download a copy run the following command:\n",
    "\n",
    "```bash\n",
    "git clone https://github.com/simonw/til.git corpus\n",
    "```"
   ]
  },
  {
   "cell_type": "code",
   "execution_count": 15,
   "id": "801b9792-2970-4cfd-a3c3-dc94cd069cbf",
   "metadata": {},
   "outputs": [],
   "source": [
    "import chromadb\n",
    "import os"
   ]
  },
  {
   "cell_type": "code",
   "execution_count": 2,
   "id": "8f0fe9cb-b06c-44da-917c-fd159c0420ba",
   "metadata": {},
   "outputs": [],
   "source": [
    "client = chromadb.PersistentClient(path=\"db/\")\n",
    "collection_name = \"Corpus\"\n",
    "device = \"cuda\"\n",
    "corpus_dir = \"corpus\""
   ]
  },
  {
   "cell_type": "code",
   "execution_count": 3,
   "id": "31737455-28a8-43d0-823c-7577b4585aa6",
   "metadata": {},
   "outputs": [
    {
     "name": "stdout",
     "output_type": "stream",
     "text": [
      "Removing collection\n"
     ]
    }
   ],
   "source": [
    "if len(client.list_collections()) > 0:\n",
    "    print(\"Removing collection\")\n",
    "    client.delete_collection(name=collection_name)"
   ]
  },
  {
   "cell_type": "code",
   "execution_count": 4,
   "id": "70d21dab-7094-44b0-bd20-ed4856027e7f",
   "metadata": {},
   "outputs": [],
   "source": [
    "collection = client.create_collection(name=collection_name)"
   ]
  },
  {
   "cell_type": "code",
   "execution_count": 5,
   "id": "8de7674a-980e-4507-b465-ea71e4dc9997",
   "metadata": {},
   "outputs": [],
   "source": [
    "def add_file_to_collection(full_path, file_id):\n",
    "    with open(full_path, 'rt') as f:\n",
    "        doc = f.read()\n",
    "        collection.add(documents=[doc], metadatas=[{\"source\": full_path}], ids=[f\"{file_id:09}\"])"
   ]
  },
  {
   "cell_type": "code",
   "execution_count": 12,
   "id": "bea3baaa-4578-4f5e-be16-a2d43bc0122f",
   "metadata": {},
   "outputs": [],
   "source": [
    "class FileIdGenerator:\n",
    "    file_id = 0\n",
    "\n",
    "    def get_id(self):\n",
    "        self.file_id += 1\n",
    "        return self.file_id\n",
    "\n",
    "def recurse_directory(directory, file_id_gen):\n",
    "    for file_name in os.listdir(directory):\n",
    "        full_path = os.path.join(directory, file_name)\n",
    "        if os.path.isfile(full_path):\n",
    "            if file_name.lower().endswith('.md'):\n",
    "                add_file_to_collection(full_path, file_id_gen.get_id())\n",
    "        else:\n",
    "            recurse_directory(full_path, file_id_gen)\n",
    "\n",
    "recurse_directory(corpus_dir, FileIdGenerator())"
   ]
  },
  {
   "cell_type": "code",
   "execution_count": 14,
   "id": "5b66d630-14a2-4106-bd83-0a91c4bff991",
   "metadata": {},
   "outputs": [
    {
     "data": {
      "text/plain": [
       "{'ids': [['000000398', '000000030']],\n",
       " 'distances': [[1.1146669387817383, 1.115147590637207]],\n",
       " 'metadatas': [[{'source': 'corpus/fly/custom-subdomain-fly.md'},\n",
       "   {'source': 'corpus/azure/all-traffic-to-subdomain.md'}]],\n",
       " 'embeddings': None,\n",
       " 'documents': [['# Assigning a custom subdomain to a Fly app\\n\\nI deployed an app to [Fly](https://fly.io/) and decided to point a custom subdomain to it.\\n\\nMy fly app is https://datasette-apache-proxy-demo.fly.dev/\\n\\nI wanted the URL to be https://datasette-apache-proxy-demo.datasette.io/ (see [issue #1524](https://github.com/simonw/datasette/issues/1524)).\\n\\nRelevant documentation: [SSL for Custom Domains](https://fly.io/docs/app-guides/custom-domains-with-fly/).\\n\\n## Assign a CNAME\\n\\nFirst step was to add a CNAME to my `datasette.io` domain.\\n\\nI pointed `CNAME` of `datasette-apache-proxy-demo.datasette.io` at `datasette-apache-proxy-demo.fly.dev.` using Vercel DNS:\\n\\n<img width=\"586\" alt=\"image\" src=\"https://user-images.githubusercontent.com/9599/142740008-942f180b-bedb-4a44-b6ef-1b0e7fd32416.png\">\\n\\n## Issuing a certificate\\n\\nFly started serving from `http://datasette-apache-proxy-demo.datasette.io/` as soon as the DNS change propagated. To get `https://` to work I had to run this:\\n\\n```\\n% flyctl certs create datasette-apache-proxy-demo.datasette.io \\nYour certificate for datasette-apache-proxy-demo.datasette.io is being issued. Status is Awaiting certificates.\\n```\\nI could then run this command periodically to see if it had been issued, which happened about 53 seconds later:\\n```\\napache-proxy % flyctl certs show datasette-apache-proxy-demo.datasette.io\\nThe certificate for datasette-apache-proxy-demo.datasette.io has been issued.\\n\\nHostname                  = datasette-apache-proxy-demo.datasette.io\\n\\nDNS Provider              = constellix\\n\\nCertificate Authority     = Let\\'s Encrypt\\n\\nIssued                    = ecdsa,rsa\\n\\nAdded to App              = 53 seconds ago\\n\\nSource                    = fly\\n```\\n',\n",
       "   '# Writing an Azure Function that serves all traffic to a subdomain\\n\\n[Azure Functions](https://docs.microsoft.com/en-us/azure/azure-functions/) default to serving traffic from a path like `/api/FunctionName` - for example `https://your-subdomain.azurewebsites.net/api/MyFunction`.\\n\\nIf you want to serve an entire website through a single function (e.g. using [Datasette](https://datasette.io/)) you need that function to we called for any traffic to that subdomain.\\n\\nHere\\'s how to do that - to capture all traffic to any path under `https://your-subdomain.azurewebsites.net/`.\\n\\nFirst add the following section to your `host.json` file:\\n\\n```\\n    \"extensions\": {\\n        \"http\": {\\n            \"routePrefix\": \"\"\\n        }\\n    }\\n```\\nThen add `\"route\": \"{*route}\"` to the `function.json` file for the function that you would like to serve all traffic. Mine ended up looking like this:\\n```json\\n{\\n    \"scriptFile\": \"__init__.py\",\\n    \"bindings\": [\\n        {\\n            \"authLevel\": \"Anonymous\",\\n            \"type\": \"httpTrigger\",\\n            \"direction\": \"in\",\\n            \"name\": \"req\",\\n            \"route\": \"{*route}\",\\n            \"methods\": [\\n                \"get\",\\n                \"post\"\\n            ]\\n        },\\n        {\\n            \"type\": \"http\",\\n            \"direction\": \"out\",\\n            \"name\": \"$return\"\\n        }\\n    ]\\n}\\n```\\nSee https://github.com/simonw/azure-functions-datasette for an example that uses this pattern.\\n']]}"
      ]
     },
     "execution_count": 14,
     "metadata": {},
     "output_type": "execute_result"
    }
   ],
   "source": [
    "collection.query(\n",
    "    query_texts=[\"How do I serve traffic to a subdomain?\"], \n",
    "    n_results=2\n",
    ")"
   ]
  },
  {
   "cell_type": "code",
   "execution_count": null,
   "id": "35e4c023-dae1-4f5b-9d0c-5b5e1882afef",
   "metadata": {},
   "outputs": [],
   "source": []
  }
 ],
 "metadata": {
  "kernelspec": {
   "display_name": "Python 3 (ipykernel)",
   "language": "python",
   "name": "python3"
  },
  "language_info": {
   "codemirror_mode": {
    "name": "ipython",
    "version": 3
   },
   "file_extension": ".py",
   "mimetype": "text/x-python",
   "name": "python",
   "nbconvert_exporter": "python",
   "pygments_lexer": "ipython3",
   "version": "3.11.6"
  }
 },
 "nbformat": 4,
 "nbformat_minor": 5
}
