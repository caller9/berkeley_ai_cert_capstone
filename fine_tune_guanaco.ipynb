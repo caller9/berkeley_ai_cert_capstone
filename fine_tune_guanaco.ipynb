{
 "cells": [
  {
   "cell_type": "markdown",
   "id": "b552ec9b-0233-4003-ab85-8f2a6fcd4b91",
   "metadata": {},
   "source": [
    "# Convert and save a subset of the guanaco instruction fine tuning data \n",
    "\n",
    "I downloaded the parquet files for the Guanaco fine tuning dataset https://huggingface.co/datasets/timdettmers/openassistant-guanaco. Then I save a subset of training data to demonstrate instruction fine tuning without dedicating the time and resources to run the full training set."
   ]
  },
  {
   "cell_type": "code",
   "execution_count": 1,
   "id": "627f9b2c-d3b8-40cb-9ff9-28fd9c918fe1",
   "metadata": {},
   "outputs": [],
   "source": [
    "from datasets import load_dataset\n",
    "import json"
   ]
  },
  {
   "cell_type": "code",
   "execution_count": 2,
   "id": "182fae00-74c9-4317-a5b2-20ae0b050c1e",
   "metadata": {},
   "outputs": [
    {
     "name": "stderr",
     "output_type": "stream",
     "text": [
      "Repo card metadata block was not found. Setting CardData to empty.\n"
     ]
    }
   ],
   "source": [
    "guanaco = load_dataset('timdettmers/openassistant-guanaco')"
   ]
  },
  {
   "cell_type": "code",
   "execution_count": 3,
   "id": "24ba3a36-2101-4129-82ca-3779d6e8fa0c",
   "metadata": {},
   "outputs": [],
   "source": [
    "training_dataset = guanaco['train']\n",
    "training_df = training_dataset.to_pandas()"
   ]
  },
  {
   "cell_type": "code",
   "execution_count": 4,
   "id": "f44a3b54-d2eb-4c06-b086-a621d78d1aa9",
   "metadata": {},
   "outputs": [
    {
     "name": "stdout",
     "output_type": "stream",
     "text": [
      "<class 'pandas.core.frame.DataFrame'>\n",
      "RangeIndex: 9846 entries, 0 to 9845\n",
      "Data columns (total 1 columns):\n",
      " #   Column  Non-Null Count  Dtype \n",
      "---  ------  --------------  ----- \n",
      " 0   text    9846 non-null   object\n",
      "dtypes: object(1)\n",
      "memory usage: 77.1+ KB\n"
     ]
    }
   ],
   "source": [
    "training_df.info()"
   ]
  },
  {
   "cell_type": "code",
   "execution_count": 5,
   "id": "60013ec5-ef7c-4637-8831-89b71e9ee35a",
   "metadata": {},
   "outputs": [
    {
     "data": {
      "text/html": [
       "<div>\n",
       "<style scoped>\n",
       "    .dataframe tbody tr th:only-of-type {\n",
       "        vertical-align: middle;\n",
       "    }\n",
       "\n",
       "    .dataframe tbody tr th {\n",
       "        vertical-align: top;\n",
       "    }\n",
       "\n",
       "    .dataframe thead th {\n",
       "        text-align: right;\n",
       "    }\n",
       "</style>\n",
       "<table border=\"1\" class=\"dataframe\">\n",
       "  <thead>\n",
       "    <tr style=\"text-align: right;\">\n",
       "      <th></th>\n",
       "      <th>text</th>\n",
       "    </tr>\n",
       "  </thead>\n",
       "  <tbody>\n",
       "    <tr>\n",
       "      <th>3508</th>\n",
       "      <td>### Human: How do I install apps on Linux?### ...</td>\n",
       "    </tr>\n",
       "    <tr>\n",
       "      <th>8275</th>\n",
       "      <td>### Human: LifeLift (https://lifelift.app) is ...</td>\n",
       "    </tr>\n",
       "    <tr>\n",
       "      <th>6025</th>\n",
       "      <td>### Human: Idatzi maitasun-poema bat### Assist...</td>\n",
       "    </tr>\n",
       "    <tr>\n",
       "      <th>6551</th>\n",
       "      <td>### Human: Hola, estoy interesado en aprender ...</td>\n",
       "    </tr>\n",
       "    <tr>\n",
       "      <th>495</th>\n",
       "      <td>### Human: cos'è il redshift delle galassie?##...</td>\n",
       "    </tr>\n",
       "    <tr>\n",
       "      <th>2683</th>\n",
       "      <td>### Human: \"¿Podrías decirme algo sobre la his...</td>\n",
       "    </tr>\n",
       "    <tr>\n",
       "      <th>3305</th>\n",
       "      <td>### Human: ¿Cómo calcular la fuerza electromec...</td>\n",
       "    </tr>\n",
       "    <tr>\n",
       "      <th>9107</th>\n",
       "      <td>### Human: Warum haben Elefanten vier Beine? I...</td>\n",
       "    </tr>\n",
       "    <tr>\n",
       "      <th>4489</th>\n",
       "      <td>### Human: Я хочу выращивать помидоры на гидро...</td>\n",
       "    </tr>\n",
       "    <tr>\n",
       "      <th>4916</th>\n",
       "      <td>### Human: ¿Cuál es la diferencia entre gente ...</td>\n",
       "    </tr>\n",
       "  </tbody>\n",
       "</table>\n",
       "</div>"
      ],
      "text/plain": [
       "                                                   text\n",
       "3508  ### Human: How do I install apps on Linux?### ...\n",
       "8275  ### Human: LifeLift (https://lifelift.app) is ...\n",
       "6025  ### Human: Idatzi maitasun-poema bat### Assist...\n",
       "6551  ### Human: Hola, estoy interesado en aprender ...\n",
       "495   ### Human: cos'è il redshift delle galassie?##...\n",
       "2683  ### Human: \"¿Podrías decirme algo sobre la his...\n",
       "3305  ### Human: ¿Cómo calcular la fuerza electromec...\n",
       "9107  ### Human: Warum haben Elefanten vier Beine? I...\n",
       "4489  ### Human: Я хочу выращивать помидоры на гидро...\n",
       "4916  ### Human: ¿Cuál es la diferencia entre gente ..."
      ]
     },
     "execution_count": 5,
     "metadata": {},
     "output_type": "execute_result"
    }
   ],
   "source": [
    "training_df.sample(10)"
   ]
  },
  {
   "cell_type": "code",
   "execution_count": 6,
   "id": "365ae0ac-3937-4386-b610-973fa6d42216",
   "metadata": {},
   "outputs": [],
   "source": [
    "# Take a subset of the overall training set\n",
    "sample_subset = training_df.sample(9000, random_state=42)"
   ]
  },
  {
   "cell_type": "code",
   "execution_count": 13,
   "id": "1e63088b-0ae5-4167-a0c1-49b857ad84d8",
   "metadata": {},
   "outputs": [
    {
     "name": "stdout",
     "output_type": "stream",
     "text": [
      "Saving 9000 entries\n"
     ]
    }
   ],
   "source": [
    "# Limit the size of the inputs and targets to a specified amount of characters. \n",
    "# Otherwise we'll get out of memory errors during training.\n",
    "size_limit = 15000\n",
    "segment_limit = 20\n",
    "reserved_strings = [\"[INST]\", \"[/INST]\", \"<s>\", \"</s>\"]\n",
    "\n",
    "# Convert to format expected by Mistral \"<s>[INST] User Instruction [/INST] Response </s>\"\n",
    "def convert_to_mistral(human, assistant):\n",
    "    return f\"<s>[INST] {human} [/INST] {assistant} </s>\"\n",
    "\n",
    "def convert_entry(entry):\n",
    "    converted_segments = []\n",
    "\n",
    "    # Reject any entries that are too long\n",
    "    if len(entry) > size_limit:\n",
    "        return None\n",
    "\n",
    "    # Reject any entries that contain existing Mistral instruction format markers\n",
    "    if any(reserved in entry for reserved in reserved_strings):\n",
    "        return None\n",
    "\n",
    "    # Reject entries with conversation chains that are too long\n",
    "    segments = entry.split('### Human:')\n",
    "    if len(segments) > segment_limit:\n",
    "        return None\n",
    "\n",
    "    # For each human -> assistant exchange, append to a list in Mistral format\n",
    "    for segment in segments:\n",
    "        convo_split = segment.split('### Assistant:')\n",
    "        human = convo_split[0].strip()\n",
    "        if len(human) == 0:\n",
    "            continue\n",
    "        assistant = \"\"\n",
    "        if (len(convo_split) > 1):\n",
    "            assistant = convo_split[1].strip()\n",
    "        converted_segments.append(convert_to_mistral(human, assistant))\n",
    "\n",
    "    # Return a map (JSON object) with the text for training\n",
    "    return {'text': ''.join(converted_segments)}\n",
    "\n",
    "training_entries = []\n",
    "for index, entry in sample_subset.iterrows():\n",
    "    converted_entry = convert_entry(entry['text'])\n",
    "    if converted_entry:\n",
    "        training_entries.append(converted_entry)\n",
    "\n",
    "# Write all of the data to JSONL file\n",
    "with open(\"data/fine_tune.jsonl\", 'w') as f:\n",
    "    print(f\"Saving {len(training_entries)} entries\")\n",
    "    for training_entry in training_entries:\n",
    "        f.write(json.dumps(training_entry) + \"\\n\")"
   ]
  },
  {
   "cell_type": "code",
   "execution_count": null,
   "id": "a486e901-9374-44ed-a11c-221ca71d1ed5",
   "metadata": {},
   "outputs": [],
   "source": []
  }
 ],
 "metadata": {
  "kernelspec": {
   "display_name": "Python 3 (ipykernel)",
   "language": "python",
   "name": "python3"
  },
  "language_info": {
   "codemirror_mode": {
    "name": "ipython",
    "version": 3
   },
   "file_extension": ".py",
   "mimetype": "text/x-python",
   "name": "python",
   "nbconvert_exporter": "python",
   "pygments_lexer": "ipython3",
   "version": "3.11.6"
  }
 },
 "nbformat": 4,
 "nbformat_minor": 5
}
