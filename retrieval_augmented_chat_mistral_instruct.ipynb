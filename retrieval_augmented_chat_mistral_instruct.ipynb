{
 "cells": [
  {
   "cell_type": "markdown",
   "id": "da28ba98-c899-441a-9ea6-a78a7c7c9716",
   "metadata": {},
   "source": [
    "# Retrieval augmented chat - Mistral-7B-Instruct\n",
    "\n",
    "This notebook is the primary demonstration of the project with the baseline model. Here we'll bring up the baseline model and vector database and start asking questions both with and without the vector database."
   ]
  },
  {
   "cell_type": "code",
   "execution_count": 1,
   "id": "ea286197-5a87-4f1b-abc3-bef2298a37c4",
   "metadata": {},
   "outputs": [],
   "source": [
    "import torch\n",
    "from transformers import (\n",
    "    AutoModelForCausalLM,\n",
    "    AutoTokenizer,\n",
    ")"
   ]
  },
  {
   "cell_type": "markdown",
   "id": "d99fd829-3019-4de8-b27c-947c8a7f2d9b",
   "metadata": {},
   "source": [
    "## Initialize some variables"
   ]
  },
  {
   "cell_type": "code",
   "execution_count": 2,
   "id": "5a05ed5f-66ef-4cc5-9813-736405bdefdf",
   "metadata": {},
   "outputs": [],
   "source": [
    "collection_name = \"Corpus\"\n",
    "model_dir = \"mistralai/Mistral-7B-Instruct-v0.1\"\n",
    "device_map = {\"\": 0}\n",
    "device = \"cuda\"\n",
    "database_top_n_results = 2"
   ]
  },
  {
   "cell_type": "markdown",
   "id": "050a9d7d-1e12-4e0e-a308-50dd0725428b",
   "metadata": {},
   "source": [
    "## Load shared code\n",
    "This file defines the `ChatModel` and `Retrieval` classes used below."
   ]
  },
  {
   "cell_type": "code",
   "execution_count": 3,
   "id": "19aff328-00b9-4971-bfaa-ff9b579c1938",
   "metadata": {},
   "outputs": [],
   "source": [
    "%run shared_code.ipynb"
   ]
  },
  {
   "cell_type": "markdown",
   "id": "acde5370-9aa9-4138-8e0e-a52e17c0f6db",
   "metadata": {},
   "source": [
    "## Load the model"
   ]
  },
  {
   "cell_type": "code",
   "execution_count": 4,
   "id": "49a41d92-5a28-4668-8e8b-2f37bf0180e3",
   "metadata": {},
   "outputs": [
    {
     "data": {
      "application/vnd.jupyter.widget-view+json": {
       "model_id": "0bbea7d0e30e49e79aa7d0ae1509c0ea",
       "version_major": 2,
       "version_minor": 0
      },
      "text/plain": [
       "Loading checkpoint shards:   0%|          | 0/2 [00:00<?, ?it/s]"
      ]
     },
     "metadata": {},
     "output_type": "display_data"
    }
   ],
   "source": [
    "language_model = AutoModelForCausalLM.from_pretrained(\n",
    "    model_dir,\n",
    "    low_cpu_mem_usage=True,\n",
    "    return_dict=True,\n",
    "    torch_dtype=torch.float16,\n",
    "    device_map=device_map,\n",
    ")\n",
    "\n",
    "tokenizer = AutoTokenizer.from_pretrained(model_dir)\n",
    "tokenizer.pad_token = tokenizer.eos_token\n",
    "tokenizer.padding_side = \"right\""
   ]
  },
  {
   "cell_type": "markdown",
   "id": "7633c44f-acce-4ad5-9ded-434fe3f88b0d",
   "metadata": {},
   "source": [
    "## Load the model into the ChatModel class from `shared_code.ipynb`"
   ]
  },
  {
   "cell_type": "code",
   "execution_count": 5,
   "id": "804c5685-8021-4a4e-a055-392d9dca611a",
   "metadata": {},
   "outputs": [],
   "source": [
    "chat_model = ChatModel(language_model, tokenizer)"
   ]
  },
  {
   "cell_type": "markdown",
   "id": "160c18cc-2fd8-46b5-a107-1d21c494187a",
   "metadata": {},
   "source": [
    "## Trying the model without access to the vector database."
   ]
  },
  {
   "cell_type": "code",
   "execution_count": 6,
   "id": "551660eb-3f81-434e-8029-f0babd9b7969",
   "metadata": {},
   "outputs": [
    {
     "name": "stdout",
     "output_type": "stream",
     "text": [
      "To loop a GIF in HTML, you can use the `animation` property. This is an example of how to create an animation using CSS:\n",
      "```\n",
      "@keyframes fadeIn {\n",
      "  from { opacity: 0; }\n",
      "  to   { opacity: 1; }\n",
      "}\n",
      "\n",
      "body {\n",
      "  background-image: url('https://example.com/your_gif_file.gif');\n",
      "  background-size: cover;\n",
      "  animation: fadeIn 5s linear infinite;\n",
      "}\n",
      "```\n",
      "This code will make your body's background image a GIF that slowly fades in (over 5 seconds) and repeats infinitely over time. You can adjust the duration, timing function, delay, fill mode, animation name, etc. as per your requirement.\n"
     ]
    }
   ],
   "source": [
    "chat_model.basic_chat(\"How do I loop a GIF?\")"
   ]
  },
  {
   "cell_type": "markdown",
   "id": "c8fdc2dc-5fc0-49c0-8ca9-adb3fa5da4a2",
   "metadata": {},
   "source": [
    "## Load the collection into the RetrievalAugmentedChat class from `shared_code.ipynb`"
   ]
  },
  {
   "cell_type": "code",
   "execution_count": 7,
   "id": "f0748c25-95f1-45cd-a547-03eaa212f918",
   "metadata": {},
   "outputs": [],
   "source": [
    "rac = RetrievalAugmentedChat(\"db/\", collection_name, database_top_n_results, chat_model)"
   ]
  },
  {
   "cell_type": "markdown",
   "id": "8476ee89-d947-44e2-9c82-6797396cd3b2",
   "metadata": {},
   "source": [
    "## Run retrieval augmented chat\n",
    "Notice that the responses have switched from a general HTML/JavaScript context to include the document contents which provide examples of encoding the gif with ImageMagick so that it loops by default."
   ]
  },
  {
   "cell_type": "code",
   "execution_count": 8,
   "id": "29b0024a-5c2d-42bf-bbba-3533b3cf2fb1",
   "metadata": {},
   "outputs": [
    {
     "data": {
      "text/markdown": [
       "To loop a GIF, you need to specify that it should repeat itself continuously. There are two ways to achieve this: one way is to set the loop count manually while playing the video; the other way is to automate the process using command line tools or software.\n",
       "\n",
       "Setting the Loop Count Manually:\n",
       "You can use a media player application such as Windows Media Player, VLC, ffmpeg, etc., to play back your GIF files and control its loop settings. In these applications, you typically have options to select how many times you want the video to repeat before stopping. Here's an example using ffmpeg:\n",
       "```javascript\n",
       "$ ffmpeg -i input_file.gif -loop 0 output_file.gif\n",
       "```\n",
       "In this command, replace \"input\\_file\" with the path to your GIF file and \"output\\_file\" with the desired name of the looped output file. \"-loop 0\" specifies that the video should not loop, so you would change this value to a positive integer if you wanted the video to play repeatedly at specified intervals. For instance, to loop the video five times:\n",
       "```css\n",
       "$ ffmpeg -i input_file.gif -loop 5 output_file.gif\n",
       "```\n",
       "Automating Looping Process:\n",
       "Another method involves automating the process using scripting languages or specific tools designed to handle image processing tasks. Here we will demonstrate using Python and various libraries:\n",
       "\n",
       "Using Pillow (Python Imaging Library):\n",
       "Pillow is a popular open-source library for handling images in Python. It provides several functions you can use to manipulate, resize, save, display images, and more. First, you need to download and install the Pillow package:\n",
       "```\n",
       "pip install pillow\n",
       "```\n",
       "Then, let's write a simple Python script to loop through all the frame files in a directory containing BMP images named \"frame\\_*.jpg\", and combine them into a single image. This loop will run infinitely, creating new animations every time you restart the script.\n",
       "```python\n",
       "import os\n",
       "from PIL import Image\n",
       "import time\n",
       "\n",
       "while True:\n",
       "    # Get current working directory\n",
       "    dirpath = os.getcwd()\n",
       "    \n",
       "    # Create a list of names from files ending with .jpg in the current directory\n",
       "    filenames = [fn for fn in os.listdir(dirpath) if fn.endswith(\".jpg\")]\n",
       "\n",
       "    # Open each image individually and stack them up\n",
       "    img_stack = []\n",
       "    for filename in reversed(filenames):\n",
       "        filepath = os.path.join(dirpath, filename)\n",
       "        with Image.open(filepath) as img:\n",
       "            # If the image has alpha channel (transparency), strip it off\n",
       "            if img.mode == 'RGB':\n",
       "                img = Image.new(\"RGBA\", (img.size))\n",
       "                img.putdata(img.load())\n",
       "            else:\n",
       "                img = img.resize((int(img.width / 2), int(img.height / 2)))\n",
       "            img_stack.append(img)\n",
       "\n",
       "    # Combine all the stacks to form a single composite image\n",
       "    img_layer = Image.merge('firstover', img_stack, 1)\n",
       "\n",
       "    # Save the output in the current directory\n",
       "    outputfilename = \"output\" + \"_\".join([time.strftime(\"%Y-%m-%d_%H%M%S\", time.localtime()), \".png\"])\n",
       "    img_layer.save(os.path.join(dirpath, outputfilename))\n",
       "    print(\"Image saved: \", outputfilename)\n",
       "\n",
       "    # Wait for a minute before moving onto next iteration\n",
       "    time.sleep(60)\n",
       "```\n",
       "This code assumes you have RGB images (without transparency) in your directory and will generate a series of \"outputXXX.png\" files where X represents timestamp information to indicate the date and time when\n",
       "\n",
       " **Reference documents:** \n",
       "\n",
       "* [corpus/imagemagick/set-a-gif-to-loop.md](corpus/imagemagick/set-a-gif-to-loop.md) distance: 0.97\n",
       "* [corpus/imagemagick/compress-animated-gif.md](corpus/imagemagick/compress-animated-gif.md) distance: 1.28\n",
       "\n",
       "**Inference time in seconds 17.8272**\n"
      ],
      "text/plain": [
       "<IPython.core.display.Markdown object>"
      ]
     },
     "metadata": {},
     "output_type": "display_data"
    }
   ],
   "source": [
    "rac.markdown_chat(\"How do I loop a GIF?\")"
   ]
  },
  {
   "cell_type": "code",
   "execution_count": 9,
   "id": "bbd178ea-8f8d-4a0f-a4ce-9bcde8dffd6d",
   "metadata": {},
   "outputs": [
    {
     "data": {
      "text/markdown": [
       "Yes, you can use npx with GitHub actions. In fact, npx by default caches its dependencies, making it well suited for running scripts in environments where speed and memory usage are critical.\n",
       "\n",
       "When using npx, you need to ensure that your npm configuration files contain the necessary permissions to access packages stored in private registries or other systems that enforces authentication for certain operations such as installations or publishing. You may also need to consider updating your project dependencies and adjusting registry settings accordingly if migrating away from using traditional package.json dependencies.\n",
       "\n",
       "It should be noted that while GitHub actions caches the dependency tree of a CLI command executed via npx, any changes made directly within the npx command execution environment (such as modifying package.json or locally installed dependencies) are not tracked and therefore not included in the cache. Therefore, for scenarios where you require persistent management of these changes across multiple executions, additional measures might be required.\n",
       "\n",
       " **Reference documents:** \n",
       "\n",
       "* [corpus/github-actions/npm-cache-with-npx-no-package.md](corpus/github-actions/npm-cache-with-npx-no-package.md) distance: 0.88\n",
       "* [corpus/github-actions/attach-generated-file-to-release.md](corpus/github-actions/attach-generated-file-to-release.md) distance: 1.11\n",
       "\n",
       "**Inference time in seconds 4.1823**\n"
      ],
      "text/plain": [
       "<IPython.core.display.Markdown object>"
      ]
     },
     "metadata": {},
     "output_type": "display_data"
    }
   ],
   "source": [
    "rac.markdown_chat(\"Can I use npx with GitHub actions?\")"
   ]
  },
  {
   "cell_type": "code",
   "execution_count": null,
   "id": "69e3ed6c-25c5-43b4-a3fb-b7dc52dba8df",
   "metadata": {},
   "outputs": [],
   "source": []
  }
 ],
 "metadata": {
  "kernelspec": {
   "display_name": "Python 3 (ipykernel)",
   "language": "python",
   "name": "python3"
  },
  "language_info": {
   "codemirror_mode": {
    "name": "ipython",
    "version": 3
   },
   "file_extension": ".py",
   "mimetype": "text/x-python",
   "name": "python",
   "nbconvert_exporter": "python",
   "pygments_lexer": "ipython3",
   "version": "3.11.6"
  }
 },
 "nbformat": 4,
 "nbformat_minor": 5
}
