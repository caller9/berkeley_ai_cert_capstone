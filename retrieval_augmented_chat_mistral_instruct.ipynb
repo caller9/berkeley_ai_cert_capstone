{
 "cells": [
  {
   "cell_type": "markdown",
   "id": "da28ba98-c899-441a-9ea6-a78a7c7c9716",
   "metadata": {},
   "source": [
    "# Retrieval augmented chat - Mistral-7B-Instruct\n",
    "\n",
    "This notebook is the primary demonstration of the project with the baseline model. Here we'll bring up the baseline model and vector database and start asking questions both with and without the vector database."
   ]
  },
  {
   "cell_type": "code",
   "execution_count": 1,
   "id": "ea286197-5a87-4f1b-abc3-bef2298a37c4",
   "metadata": {},
   "outputs": [],
   "source": [
    "import torch\n",
    "from transformers import (\n",
    "    AutoModelForCausalLM,\n",
    "    AutoTokenizer,\n",
    ")"
   ]
  },
  {
   "cell_type": "markdown",
   "id": "d99fd829-3019-4de8-b27c-947c8a7f2d9b",
   "metadata": {},
   "source": [
    "## Initialize some variables"
   ]
  },
  {
   "cell_type": "code",
   "execution_count": 2,
   "id": "5a05ed5f-66ef-4cc5-9813-736405bdefdf",
   "metadata": {},
   "outputs": [],
   "source": [
    "collection_name = \"Corpus\"\n",
    "model_dir = \"mistralai/Mistral-7B-Instruct-v0.1\"\n",
    "device_map = {\"\": 0}\n",
    "device = \"cuda\"\n",
    "database_top_n_results = 2"
   ]
  },
  {
   "cell_type": "markdown",
   "id": "050a9d7d-1e12-4e0e-a308-50dd0725428b",
   "metadata": {},
   "source": [
    "## Load shared code\n",
    "This file defines the `ChatModel` and `Retrieval` classes used below."
   ]
  },
  {
   "cell_type": "code",
   "execution_count": 3,
   "id": "19aff328-00b9-4971-bfaa-ff9b579c1938",
   "metadata": {},
   "outputs": [],
   "source": [
    "%run shared_code.ipynb"
   ]
  },
  {
   "cell_type": "markdown",
   "id": "acde5370-9aa9-4138-8e0e-a52e17c0f6db",
   "metadata": {},
   "source": [
    "## Load the model"
   ]
  },
  {
   "cell_type": "code",
   "execution_count": 4,
   "id": "49a41d92-5a28-4668-8e8b-2f37bf0180e3",
   "metadata": {},
   "outputs": [
    {
     "data": {
      "application/vnd.jupyter.widget-view+json": {
       "model_id": "d772543f669b4751a351f13c143c1b24",
       "version_major": 2,
       "version_minor": 0
      },
      "text/plain": [
       "Loading checkpoint shards:   0%|          | 0/2 [00:00<?, ?it/s]"
      ]
     },
     "metadata": {},
     "output_type": "display_data"
    }
   ],
   "source": [
    "language_model = AutoModelForCausalLM.from_pretrained(\n",
    "    model_dir,\n",
    "    low_cpu_mem_usage=True,\n",
    "    return_dict=True,\n",
    "    torch_dtype=torch.float16,\n",
    "    device_map=device_map,\n",
    ")\n",
    "\n",
    "tokenizer = AutoTokenizer.from_pretrained(model_dir)\n",
    "tokenizer.pad_token = tokenizer.eos_token\n",
    "tokenizer.padding_side = \"right\""
   ]
  },
  {
   "cell_type": "markdown",
   "id": "7633c44f-acce-4ad5-9ded-434fe3f88b0d",
   "metadata": {},
   "source": [
    "## Load the model into the ChatModel class from `shared_code.ipynb`"
   ]
  },
  {
   "cell_type": "code",
   "execution_count": 5,
   "id": "804c5685-8021-4a4e-a055-392d9dca611a",
   "metadata": {},
   "outputs": [],
   "source": [
    "chat_model = ChatModel(language_model, tokenizer)"
   ]
  },
  {
   "cell_type": "markdown",
   "id": "160c18cc-2fd8-46b5-a107-1d21c494187a",
   "metadata": {},
   "source": [
    "## Trying the model without access to the vector database."
   ]
  },
  {
   "cell_type": "code",
   "execution_count": 6,
   "id": "551660eb-3f81-434e-8029-f0babd9b7969",
   "metadata": {},
   "outputs": [
    {
     "name": "stdout",
     "output_type": "stream",
     "text": [
      "To loop a GIF, you can use HTML5 video tag and set the `loop` attribute to `true`. Here's an example code snippet:\n",
      "```html\n",
      "<video src=\"your-gif-url\" loop></video>\n",
      "```\n",
      "You can also use CSS to loop an animated GIF by setting the `animation-name` property to the name of the GIF animation and the `animation-iteration-count` property to a number greater than 1. Here's an example code snippet:\n",
      "```css\n",
      ".your-gif-class {\n",
      "  animation: your-animation-name your-animation-duration ease-in-out infinite;\n",
      "}\n",
      "```\n",
      "Note that looping an animated GIF using CSS requires the GIF to be inline in the HTML code and the CSS class to be applied to the GIF element.\n"
     ]
    }
   ],
   "source": [
    "chat_model.basic_chat(\"How do I loop a GIF?\")"
   ]
  },
  {
   "cell_type": "markdown",
   "id": "c8fdc2dc-5fc0-49c0-8ca9-adb3fa5da4a2",
   "metadata": {},
   "source": [
    "## Load the collection into the RetrievalAugmentedChat class from `shared_code.ipynb`"
   ]
  },
  {
   "cell_type": "code",
   "execution_count": 7,
   "id": "f0748c25-95f1-45cd-a547-03eaa212f918",
   "metadata": {},
   "outputs": [],
   "source": [
    "rac = RetrievalAugmentedChat(\"db/\", collection_name, database_top_n_results, chat_model)"
   ]
  },
  {
   "cell_type": "markdown",
   "id": "8476ee89-d947-44e2-9c82-6797396cd3b2",
   "metadata": {},
   "source": [
    "## Run retrieval augmented chat\n",
    "Notice that the responses have switched from a general HTML/JavaScript context to include the document contents which provide examples of encoding the gif with ImageMagick so that it loops by default."
   ]
  },
  {
   "cell_type": "code",
   "execution_count": 8,
   "id": "29b0024a-5c2d-42bf-bbba-3533b3cf2fb1",
   "metadata": {},
   "outputs": [
    {
     "data": {
      "text/markdown": [
       "To loop a GIF, you can use the ImageMagick command line tool. Here are the steps you can follow:\n",
       "\n",
       "1. Open a terminal window.\n",
       "2. Navigate to the directory where your GIF file is saved.\n",
       "3. Run the following command:\n",
       "```css\n",
       "convert image.gif -loop 0 image_loop.gif\n",
       "```\n",
       "This will create a new file called `image_loop.gif` that will loop indefinitely. The `-loop 0` option tells ImageMagick to loop the animation forever.\n",
       "\n",
       "If you want to specify a specific number of times you want the GIF to loop, you can use the `-delay` option followed by the number of milliseconds between each frame of the GIF. For example, to loop the GIF 5 times with a delay of 100 milliseconds between each frame, you can use the following command:\n",
       "```css\n",
       "convert image.gif -delay 100 -loop 5 image_loop.gif\n",
       "```\n",
       "The `-delay` option specifies the time between each frame of the GIF, in milliseconds. A value of 0 means that the frames will be displayed as fast as possible.\n",
       "\n",
       "Once the command finishes running, you will have a new file called `image_loop.gif` that will loop indefinitely. You can view this file in any media player that supports GIFs.\n",
       "\n",
       " **Reference documents:** \n",
       "\n",
       "* [corpus/imagemagick/set-a-gif-to-loop.md](corpus/imagemagick/set-a-gif-to-loop.md) distance: 0.97\n",
       "* [corpus/imagemagick/compress-animated-gif.md](corpus/imagemagick/compress-animated-gif.md) distance: 1.28\n",
       "\n",
       "**Inference time in seconds 6.3233**\n"
      ],
      "text/plain": [
       "<IPython.core.display.Markdown object>"
      ]
     },
     "metadata": {},
     "output_type": "display_data"
    }
   ],
   "source": [
    "rac.markdown_chat(\"How do I loop a GIF?\")"
   ]
  },
  {
   "cell_type": "code",
   "execution_count": 9,
   "id": "bbd178ea-8f8d-4a0f-a4ce-9bcde8dffd6d",
   "metadata": {},
   "outputs": [
    {
     "data": {
      "text/markdown": [
       "Yes, you can use `npx` with GitHub Actions. However, by default, the `npx` command is not cached in the Actions cache.\n",
       "\n",
       "To use `npx` with GitHub Actions, you need to create a cache key that includes the dependencies required by `npx`. You can do this by setting the `cache-dependency-path` parameter in the `actions/setup-node` action. This action sets up the Node.js runtime and caches the dependencies required by your project.\n",
       "\n",
       "Here is an example of how to use `npx` with GitHub Actions:\n",
       "```yaml\n",
       "- name: Set up Node.js\n",
       "  uses: actions/setup-node@v2\n",
       "  with:\n",
       "    node-version: '14'\n",
       "    cache: 'npm'\n",
       "    cache-dependency-path: '**/*'\n",
       "\n",
       "- name: Install dependencies\n",
       "  run: npm install\n",
       "\n",
       "- name: Run npx command\n",
       "  run: npx my-command\n",
       "```\n",
       "In this example, the `actions/setup-node` action is used to set up Node.js and cache the dependencies required by your project. The `cache-dependency-path` parameter is set to `'**/*'`, which means that all files in your project are included in the cache key.\n",
       "\n",
       "The `install` command is then used to install the dependencies required by your project.\n",
       "\n",
       "Finally, the `npx` command is used to run the `my-command` command. Since the dependencies are cached, the first time the `npx` command is run, it will download the dependencies from the cache instead of re-installing them from npm.\n",
       "\n",
       "It's important to note that any change to the cache key, such as adding or removing files, will invalidate the cache and cause the cache to be rebuilt. This can be done manually by clicking the \"Flush cache\" button on the Actions page or by using the `actions/cache@v2` action in your workflow.\n",
       "\n",
       " **Reference documents:** \n",
       "\n",
       "* [corpus/github-actions/npm-cache-with-npx-no-package.md](corpus/github-actions/npm-cache-with-npx-no-package.md) distance: 0.88\n",
       "* [corpus/github-actions/attach-generated-file-to-release.md](corpus/github-actions/attach-generated-file-to-release.md) distance: 1.11\n",
       "\n",
       "**Inference time in seconds 9.0233**\n"
      ],
      "text/plain": [
       "<IPython.core.display.Markdown object>"
      ]
     },
     "metadata": {},
     "output_type": "display_data"
    }
   ],
   "source": [
    "rac.markdown_chat(\"Can I use npx with GitHub actions?\")"
   ]
  },
  {
   "cell_type": "code",
   "execution_count": null,
   "id": "69e3ed6c-25c5-43b4-a3fb-b7dc52dba8df",
   "metadata": {},
   "outputs": [],
   "source": []
  }
 ],
 "metadata": {
  "kernelspec": {
   "display_name": "Python 3 (ipykernel)",
   "language": "python",
   "name": "python3"
  },
  "language_info": {
   "codemirror_mode": {
    "name": "ipython",
    "version": 3
   },
   "file_extension": ".py",
   "mimetype": "text/x-python",
   "name": "python",
   "nbconvert_exporter": "python",
   "pygments_lexer": "ipython3",
   "version": "3.11.6"
  }
 },
 "nbformat": 4,
 "nbformat_minor": 5
}
