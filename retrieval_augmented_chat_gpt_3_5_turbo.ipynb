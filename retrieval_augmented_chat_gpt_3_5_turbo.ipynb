{
 "cells": [
  {
   "cell_type": "markdown",
   "id": "da28ba98-c899-441a-9ea6-a78a7c7c9716",
   "metadata": {},
   "source": [
    "# Retrieval augmented chat - ChatGPT 3.5 Turbo\n",
    "\n",
    "This notebook is the primary demonstration of the project with the ChatGPT 3.5 Turbo model. Here we'll use the OpenAI API and vector database and start asking questions both with and without the vector database."
   ]
  },
  {
   "cell_type": "code",
   "execution_count": 1,
   "id": "ea286197-5a87-4f1b-abc3-bef2298a37c4",
   "metadata": {},
   "outputs": [],
   "source": [
    "import json"
   ]
  },
  {
   "cell_type": "markdown",
   "id": "d99fd829-3019-4de8-b27c-947c8a7f2d9b",
   "metadata": {},
   "source": [
    "## Initialize some variables"
   ]
  },
  {
   "cell_type": "code",
   "execution_count": 2,
   "id": "5a05ed5f-66ef-4cc5-9813-736405bdefdf",
   "metadata": {},
   "outputs": [],
   "source": [
    "collection_name = \"Corpus\"\n",
    "database_top_n_results = 2\n",
    "openai_model=\"gpt-3.5-turbo\""
   ]
  },
  {
   "cell_type": "markdown",
   "id": "6a299a70-0e8f-4947-b8a5-af2b37a32bc3",
   "metadata": {},
   "source": [
    "## Load shared code\n",
    "This file defines the `OpenAiChatModel` and `Retrieval` classes used below."
   ]
  },
  {
   "cell_type": "code",
   "execution_count": 3,
   "id": "9c0127f1-910c-49b6-9210-97d8b68ef671",
   "metadata": {},
   "outputs": [],
   "source": [
    "%run shared_code.ipynb"
   ]
  },
  {
   "cell_type": "markdown",
   "id": "acde5370-9aa9-4138-8e0e-a52e17c0f6db",
   "metadata": {},
   "source": [
    "## Read OpenAI API credentials\n",
    "\n",
    "We read the OpenAI credentials from a `openai.json` file with the following format:\n",
    "\n",
    "```json\n",
    "{\n",
    "    \"api_key\": \"YOUR_API_KEY\",\n",
    "    \"organization\": \"YOUR_ORGANIZATION_ID\"\n",
    "}\n",
    "```\n",
    "\n",
    "You'll need your own credentials, mine are not checked into the repository."
   ]
  },
  {
   "cell_type": "code",
   "execution_count": 4,
   "id": "49a41d92-5a28-4668-8e8b-2f37bf0180e3",
   "metadata": {},
   "outputs": [],
   "source": [
    "with open('openai.json', 'r') as f:\n",
    "    data = json.load(f)\n",
    "    openai_api_key = data['api_key']\n",
    "    openai_organization = data['organization']"
   ]
  },
  {
   "cell_type": "markdown",
   "id": "10163ab3-e55c-403b-96f9-7d0d338cb18c",
   "metadata": {},
   "source": [
    "## Load the OpenAiChatModel class from `shared_code.ipynb`"
   ]
  },
  {
   "cell_type": "code",
   "execution_count": 5,
   "id": "064cd72c-2f70-49b6-8862-30d56ec9d42d",
   "metadata": {},
   "outputs": [],
   "source": [
    "chat_model = OpenAiChatModel(openai_organization, openai_api_key, openai_model)"
   ]
  },
  {
   "cell_type": "markdown",
   "id": "160c18cc-2fd8-46b5-a107-1d21c494187a",
   "metadata": {},
   "source": [
    "## Trying the model without access to the vector database."
   ]
  },
  {
   "cell_type": "code",
   "execution_count": 6,
   "id": "551660eb-3f81-434e-8029-f0babd9b7969",
   "metadata": {},
   "outputs": [
    {
     "name": "stdout",
     "output_type": "stream",
     "text": [
      "To loop a GIF, you can follow these steps:\n",
      "\n",
      "1. Open the GIF file in an image editing software or a GIF editor. Some popular options include Adobe Photoshop, GIMP, or online tools like Ezgif.com.\n",
      "\n",
      "2. Once you have the GIF open, look for an option that allows you to set the loop count or repeat value. This option may be located under the \"Save\" or \"Export\" menu.\n",
      "\n",
      "3. Set the loop count to \"Forever\" or a specific number of loops as desired. \"Forever\" will make the GIF loop indefinitely.\n",
      "\n",
      "4. Save or export the GIF with the loop settings applied. Make sure to choose the appropriate file format, usually GIF (.gif).\n",
      "\n",
      "5. Preview the saved GIF to ensure it loops correctly. You can open it in any web browser or image viewer that supports GIF playback.\n",
      "\n",
      "By adjusting the loop count or repeat value, you can control how many times the GIF repeats before stopping.\n"
     ]
    }
   ],
   "source": [
    "chat_model.basic_chat(\"How do I loop a GIF?\")"
   ]
  },
  {
   "cell_type": "markdown",
   "id": "c035b376-3b51-4da9-a4fd-23f2a7d2f5fc",
   "metadata": {},
   "source": [
    "## Load the collection into the RetrievalAugmentedChat class from `shared_code.ipynb`"
   ]
  },
  {
   "cell_type": "code",
   "execution_count": 7,
   "id": "a7888382-4a37-4612-b7ef-3fa2a132d4c3",
   "metadata": {},
   "outputs": [],
   "source": [
    "rac = RetrievalAugmentedChat(\"db/\", collection_name, database_top_n_results, chat_model)"
   ]
  },
  {
   "cell_type": "markdown",
   "id": "8476ee89-d947-44e2-9c82-6797396cd3b2",
   "metadata": {},
   "source": [
    "## Run retrieval augmented chat\n",
    "Notice that the responses have switched from a general context to include the document contents which provide examples of encoding the gif with ImageMagick so that it loops by default."
   ]
  },
  {
   "cell_type": "code",
   "execution_count": 8,
   "id": "29b0024a-5c2d-42bf-bbba-3533b3cf2fb1",
   "metadata": {},
   "outputs": [
    {
     "data": {
      "text/markdown": [
       "To loop a GIF, you can use ImageMagick, a powerful command-line tool for image manipulation. Here are the steps to loop a GIF using ImageMagick:\n",
       "\n",
       "1. Install ImageMagick: If you haven't already, you need to install ImageMagick on your system. In the example provided, the author installed ImageMagick on macOS using the Homebrew package manager with the command `brew install imagemagick`. You can refer to the ImageMagick documentation for installation instructions on your specific operating system.\n",
       "\n",
       "2. Open the terminal: Launch your terminal or command prompt.\n",
       "\n",
       "3. Navigate to the directory containing the GIF: Use the `cd` command to navigate to the directory where your GIF file is located. For example, if your GIF is in the \"Pictures\" folder, you can use the command `cd Pictures` to navigate to that folder.\n",
       "\n",
       "4. Loop the GIF using ImageMagick: Once you are in the correct directory, you can use the `convert` command provided by ImageMagick to loop the GIF. The syntax is as follows:\n",
       "\n",
       "   ```\n",
       "   convert input.gif -loop 0 output.gif\n",
       "   ```\n",
       "\n",
       "   In this command, `input.gif` is the name of the original GIF file, and `output.gif` is the name you want to give to the new GIF with looping enabled. The `-loop 0` option specifies that the GIF should loop indefinitely.\n",
       "\n",
       "   Note: Make sure to replace `input.gif` and `output.gif` with the actual filenames of your GIF files.\n",
       "\n",
       "5. Execute the command: After entering the `convert` command with the appropriate filenames, press Enter to execute the command.\n",
       "\n",
       "6. Check the output: Once the command completes, you should have a new GIF file with looping enabled. You can verify this by opening the GIF file in an image viewer or web browser. The GIF should now loop indefinitely instead of running only once.\n",
       "\n",
       "In the provided example, the author used ImageMagick to loop a GIF named `chrome-samesite-missing.gif` and saved the resulting GIF as `chrome-samesite-missing-loop.gif`. They executed the command `convert chrome-samesite-missing.gif -loop 0 chrome-samesite-missing-loop.gif` to achieve this.\n",
       "\n",
       "Remember to adjust the filenames and paths in the command to match your specific situation.\n",
       "\n",
       " **Reference documents:** \n",
       "\n",
       "* [corpus/imagemagick/set-a-gif-to-loop.md](corpus/imagemagick/set-a-gif-to-loop.md) distance: 0.97\n",
       "* [corpus/imagemagick/compress-animated-gif.md](corpus/imagemagick/compress-animated-gif.md) distance: 1.28\n",
       "\n",
       "**Inference time in seconds 8.5836**\n"
      ],
      "text/plain": [
       "<IPython.core.display.Markdown object>"
      ]
     },
     "metadata": {},
     "output_type": "display_data"
    }
   ],
   "source": [
    "rac.markdown_chat(\"How do I loop a GIF?\")"
   ]
  },
  {
   "cell_type": "code",
   "execution_count": 9,
   "id": "bbd178ea-8f8d-4a0f-a4ce-9bcde8dffd6d",
   "metadata": {},
   "outputs": [
    {
     "data": {
      "text/markdown": [
       "Yes, you can use `npx` with GitHub Actions. In the first document, the author describes how they use `npx` to install and run the `get-graphql-schema` tool in their GitHub Actions workflow. They wanted to cache the download of the package to avoid downloading it every time the action runs.\n",
       "\n",
       "To achieve this, they used the `actions/setup-node` action, which can set up the cache. They specified the `cache-dependency-path` to be all of their GitHub Actions workflow YAML files. This way, the cache is invalidated whenever any content of any of the workflow YAML files changes.\n",
       "\n",
       "By using this configuration, the author was able to reuse the previously downloaded version of the `get-graphql-schema` tool in their workflow, improving efficiency and avoiding unnecessary downloads.\n",
       "\n",
       "In the second document, the author explains how they attached a generated file to a GitHub release using Actions. They triggered their action on the creation of a new release. They used the `actions/github-script` action, which provides a pre-configured `octokit/rest.js` client object.\n",
       "\n",
       "In the action step, they first retrieved the release object for the current tag using `getReleaseByTag()`. They then used the `uploadReleaseAsset()` method to upload and attach the generated file to the release. The required parameters for `uploadReleaseAsset()` are the owner, repo, release_id, name (filename), and the file data.\n",
       "\n",
       "To obtain the `release_id`, the author derived it from the current release based on the `context.ref` value. They stripped down the `context.ref` to just the tag and used `getReleaseByTag()` to get the release object. The `release.data.id` property provided the numeric release ID needed for `uploadReleaseAsset()`.\n",
       "\n",
       "Overall, both documents demonstrate how `npx` can be used in GitHub Actions workflows and how to perform actions such as caching and attaching generated files to releases.\n",
       "\n",
       " **Reference documents:** \n",
       "\n",
       "* [corpus/github-actions/npm-cache-with-npx-no-package.md](corpus/github-actions/npm-cache-with-npx-no-package.md) distance: 0.88\n",
       "* [corpus/github-actions/attach-generated-file-to-release.md](corpus/github-actions/attach-generated-file-to-release.md) distance: 1.11\n",
       "\n",
       "**Inference time in seconds 8.3324**\n"
      ],
      "text/plain": [
       "<IPython.core.display.Markdown object>"
      ]
     },
     "metadata": {},
     "output_type": "display_data"
    }
   ],
   "source": [
    "rac.markdown_chat(\"Can I use npx with GitHub actions?\")"
   ]
  },
  {
   "cell_type": "code",
   "execution_count": null,
   "id": "69e3ed6c-25c5-43b4-a3fb-b7dc52dba8df",
   "metadata": {},
   "outputs": [],
   "source": []
  }
 ],
 "metadata": {
  "kernelspec": {
   "display_name": "Python 3 (ipykernel)",
   "language": "python",
   "name": "python3"
  },
  "language_info": {
   "codemirror_mode": {
    "name": "ipython",
    "version": 3
   },
   "file_extension": ".py",
   "mimetype": "text/x-python",
   "name": "python",
   "nbconvert_exporter": "python",
   "pygments_lexer": "ipython3",
   "version": "3.11.6"
  }
 },
 "nbformat": 4,
 "nbformat_minor": 5
}
