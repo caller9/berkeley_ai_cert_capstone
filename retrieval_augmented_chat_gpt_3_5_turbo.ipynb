{
 "cells": [
  {
   "cell_type": "markdown",
   "id": "da28ba98-c899-441a-9ea6-a78a7c7c9716",
   "metadata": {},
   "source": [
    "# Retrieval augmented chat - ChatGPT 3.5 Turbo\n",
    "\n",
    "This notebook is the primary demonstration of the project with the ChatGPT 3.5 Turbo model. Here we'll use the OpenAI API and vector database and start asking questions both with and without the vector database."
   ]
  },
  {
   "cell_type": "code",
   "execution_count": 1,
   "id": "ea286197-5a87-4f1b-abc3-bef2298a37c4",
   "metadata": {},
   "outputs": [],
   "source": [
    "import json"
   ]
  },
  {
   "cell_type": "markdown",
   "id": "d99fd829-3019-4de8-b27c-947c8a7f2d9b",
   "metadata": {},
   "source": [
    "## Initialize some variables"
   ]
  },
  {
   "cell_type": "code",
   "execution_count": 2,
   "id": "5a05ed5f-66ef-4cc5-9813-736405bdefdf",
   "metadata": {},
   "outputs": [],
   "source": [
    "collection_name = \"Corpus\"\n",
    "database_top_n_results = 2\n",
    "openai_model=\"gpt-3.5-turbo\""
   ]
  },
  {
   "cell_type": "markdown",
   "id": "6a299a70-0e8f-4947-b8a5-af2b37a32bc3",
   "metadata": {},
   "source": [
    "## Load shared code\n",
    "This file defines the `OpenAiChatModel` and `Retrieval` classes used below."
   ]
  },
  {
   "cell_type": "code",
   "execution_count": 3,
   "id": "9c0127f1-910c-49b6-9210-97d8b68ef671",
   "metadata": {},
   "outputs": [],
   "source": [
    "%run shared_code.ipynb"
   ]
  },
  {
   "cell_type": "markdown",
   "id": "acde5370-9aa9-4138-8e0e-a52e17c0f6db",
   "metadata": {},
   "source": [
    "## Read OpenAI API credentials\n",
    "\n",
    "We read the OpenAI credentials from a `openai.json` file with the following format:\n",
    "\n",
    "```json\n",
    "{\n",
    "    \"api_key\": \"YOUR_API_KEY\",\n",
    "    \"organization\": \"YOUR_ORGANIZATION_ID\"\n",
    "}\n",
    "```\n",
    "\n",
    "You'll need your own credentials, mine are not checked into the repository."
   ]
  },
  {
   "cell_type": "code",
   "execution_count": 4,
   "id": "49a41d92-5a28-4668-8e8b-2f37bf0180e3",
   "metadata": {},
   "outputs": [],
   "source": [
    "with open('openai.json', 'r') as f:\n",
    "    data = json.load(f)\n",
    "    openai_api_key = data['api_key']\n",
    "    openai_organization = data['organization']"
   ]
  },
  {
   "cell_type": "markdown",
   "id": "10163ab3-e55c-403b-96f9-7d0d338cb18c",
   "metadata": {},
   "source": [
    "## Load the OpenAiChatModel class from `shared_code.ipynb`"
   ]
  },
  {
   "cell_type": "code",
   "execution_count": 5,
   "id": "064cd72c-2f70-49b6-8862-30d56ec9d42d",
   "metadata": {},
   "outputs": [],
   "source": [
    "chat_model = OpenAiChatModel(openai_organization, openai_api_key, openai_model)"
   ]
  },
  {
   "cell_type": "markdown",
   "id": "160c18cc-2fd8-46b5-a107-1d21c494187a",
   "metadata": {},
   "source": [
    "## Trying the model without access to the vector database."
   ]
  },
  {
   "cell_type": "code",
   "execution_count": 6,
   "id": "551660eb-3f81-434e-8029-f0babd9b7969",
   "metadata": {},
   "outputs": [
    {
     "name": "stdout",
     "output_type": "stream",
     "text": [
      "To loop a GIF, you can follow these steps:\n",
      "\n",
      "1. Open the GIF file in a GIF editor or viewer. There are various software and online tools available for this purpose, such as Adobe Photoshop, GIMP, or online GIF editors like ezgif.com.\n",
      "\n",
      "2. In the editor, locate the option to set the loop count or animation settings. This option may be named differently depending on the software you are using.\n",
      "\n",
      "3. Set the loop count to \"infinite\" or a high number to make the GIF loop continuously. Some editors may have a checkbox or dropdown menu to select the loop count, while others may require you to enter a specific number.\n",
      "\n",
      "4. Save the modified GIF file. Make sure to save it with a new name or in a different location to avoid overwriting the original file.\n",
      "\n",
      "Now, when you open the modified GIF, it should loop continuously until you stop it.\n"
     ]
    }
   ],
   "source": [
    "chat_model.basic_chat(\"How do I loop a GIF?\")"
   ]
  },
  {
   "cell_type": "markdown",
   "id": "c035b376-3b51-4da9-a4fd-23f2a7d2f5fc",
   "metadata": {},
   "source": [
    "## Load the collection into the RetrievalAugmentedChat class from `shared_code.ipynb`"
   ]
  },
  {
   "cell_type": "code",
   "execution_count": 7,
   "id": "a7888382-4a37-4612-b7ef-3fa2a132d4c3",
   "metadata": {},
   "outputs": [],
   "source": [
    "rac = RetrievalAugmentedChat(\"db/\", collection_name, database_top_n_results, chat_model)"
   ]
  },
  {
   "cell_type": "markdown",
   "id": "8476ee89-d947-44e2-9c82-6797396cd3b2",
   "metadata": {},
   "source": [
    "## Run retrieval augmented chat\n",
    "Notice that the responses have switched from a general HTML/JavaScript context to include the document contents which provide examples of encoding the gif with ImageMagick so that it loops by default."
   ]
  },
  {
   "cell_type": "code",
   "execution_count": 8,
   "id": "29b0024a-5c2d-42bf-bbba-3533b3cf2fb1",
   "metadata": {},
   "outputs": [
    {
     "data": {
      "text/markdown": [
       "To loop a GIF, you can use the ImageMagick command-line tool. Here are the steps to loop a GIF using ImageMagick:\n",
       "\n",
       "1. Install ImageMagick: If you don't have ImageMagick installed on your system, you can install it using package managers like `brew` on macOS or `apt` on Linux. For example, on macOS, you can install it with the command `brew install imagemagick`.\n",
       "\n",
       "2. Open the terminal: Open a terminal window on your system.\n",
       "\n",
       "3. Navigate to the directory: Use the `cd` command to navigate to the directory where your GIF file is located. For example, if your GIF file is in the `Documents` folder, you can navigate to it by running `cd Documents`.\n",
       "\n",
       "4. Run the conversion command: Use the `convert` command followed by the input GIF file name, the `-loop` option, and the loop count or value. For example, to set the loop count to 0 (loop forever), you can use the command `convert input.gif -loop 0 output.gif`. Replace `input.gif` with the name of your input GIF file and `output.gif` with the desired name for the output GIF file.\n",
       "\n",
       "5. Execute the command: Press Enter to execute the command. ImageMagick will process the GIF file and create a new GIF file with the specified loop settings.\n",
       "\n",
       "6. Verify the output: Check the output file to ensure that the GIF is now looping. You can open the output GIF file in an image viewer or a web browser to see if it loops correctly.\n",
       "\n",
       "In the provided example, the command used to loop the GIF is:\n",
       "\n",
       "```\n",
       "convert chrome-samesite-missing.gif -loop 0 chrome-samesite-missing-loop.gif\n",
       "```\n",
       "\n",
       "Here, `chrome-samesite-missing.gif` is the input GIF file, and `chrome-samesite-missing-loop.gif` is the output GIF file. The `-loop 0` option sets the loop count to 0, which means the GIF will loop forever.\n",
       "\n",
       "Remember that the output filename should come last in the command, after the `-loop 0` option.\n",
       "\n",
       "After running the command, you can check the \"after GIF\" image provided in the document to see the GIF looping forever.\n",
       "\n",
       "Note: It's always a good practice to make a backup of your original GIF file before making any modifications.\n",
       "\n",
       " **Reference documents:** \n",
       "\n",
       "* [corpus/imagemagick/set-a-gif-to-loop.md](corpus/imagemagick/set-a-gif-to-loop.md) distance: 0.97\n",
       "* [corpus/imagemagick/compress-animated-gif.md](corpus/imagemagick/compress-animated-gif.md) distance: 1.28\n",
       "\n",
       "**Inference time in seconds 12.5863**\n"
      ],
      "text/plain": [
       "<IPython.core.display.Markdown object>"
      ]
     },
     "metadata": {},
     "output_type": "display_data"
    }
   ],
   "source": [
    "rac.markdown_chat(\"How do I loop a GIF?\")"
   ]
  },
  {
   "cell_type": "code",
   "execution_count": 9,
   "id": "bbd178ea-8f8d-4a0f-a4ce-9bcde8dffd6d",
   "metadata": {},
   "outputs": [
    {
     "data": {
      "text/markdown": [
       "Yes, you can use `npx` with GitHub Actions. In the first document, the author describes how they use `npx` to install and run the `get-graphql-schema` tool in their GitHub Actions workflow. They were initially facing the issue of downloading the package from npm every time the action ran, which they wanted to avoid.\n",
       "\n",
       "To solve this problem, the author used the `actions/setup-node` action, which allows you to set up the cache for npm assets. Normally, this action requires a `package.json` file to be used as part of the cache key. However, the author's projects did not have a `package.json` file, so they found a workaround.\n",
       "\n",
       "They set a custom `cache-dependency-path` in the `actions/setup-node` configuration, bundling together all of their GitHub Actions workflow YAML files. This way, the cache is invalidated whenever any content of any of the workflow YAML files changes. By doing this, the author was able to cache the `npx` download and reuse it in subsequent runs of the action.\n",
       "\n",
       "In conclusion, you can use `npx` with GitHub Actions by configuring the cache using the `actions/setup-node` action and setting a custom `cache-dependency-path` to include your workflow YAML files.\n",
       "\n",
       " **Reference documents:** \n",
       "\n",
       "* [corpus/github-actions/npm-cache-with-npx-no-package.md](corpus/github-actions/npm-cache-with-npx-no-package.md) distance: 0.88\n",
       "* [corpus/github-actions/attach-generated-file-to-release.md](corpus/github-actions/attach-generated-file-to-release.md) distance: 1.11\n",
       "\n",
       "**Inference time in seconds 6.8183**\n"
      ],
      "text/plain": [
       "<IPython.core.display.Markdown object>"
      ]
     },
     "metadata": {},
     "output_type": "display_data"
    }
   ],
   "source": [
    "rac.markdown_chat(\"Can I use npx with GitHub actions?\")"
   ]
  },
  {
   "cell_type": "code",
   "execution_count": null,
   "id": "69e3ed6c-25c5-43b4-a3fb-b7dc52dba8df",
   "metadata": {},
   "outputs": [],
   "source": []
  }
 ],
 "metadata": {
  "kernelspec": {
   "display_name": "Python 3 (ipykernel)",
   "language": "python",
   "name": "python3"
  },
  "language_info": {
   "codemirror_mode": {
    "name": "ipython",
    "version": 3
   },
   "file_extension": ".py",
   "mimetype": "text/x-python",
   "name": "python",
   "nbconvert_exporter": "python",
   "pygments_lexer": "ipython3",
   "version": "3.11.6"
  }
 },
 "nbformat": 4,
 "nbformat_minor": 5
}
