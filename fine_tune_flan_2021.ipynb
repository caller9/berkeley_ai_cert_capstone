{
 "cells": [
  {
   "cell_type": "markdown",
   "id": "b552ec9b-0233-4003-ab85-8f2a6fcd4b91",
   "metadata": {},
   "source": [
    "# Save a subset of the FLAN 2021 instruction fine tuning data \n",
    "\n",
    "** This wasn't a very good dataset and produced suboptimal results **\n",
    "\n",
    "I downloaded the parquet files for the FLAN fine tuning dataset https://huggingface.co/datasets/DataProvenanceInitiative/flan2021_submix_original. Then I save a subset of training data to demonstrate instruction fine tuning without dedicating the time and resources to run the full training set.\n",
    "\n",
    "Credit for FLAN 2021:\n",
    "```\n",
    "@inproceedings{weifinetuned,\n",
    "  title={Finetuned Language Models are Zero-Shot Learners},\n",
    "  author={Wei, Jason and Bosma, Maarten and Zhao, Vincent and Guu, Kelvin and Yu, Adams Wei and Lester, Brian and Du, Nan and Dai, Andrew M and Le, Quoc V},\n",
    "  booktitle={International Conference on Learning Representations}\n",
    "}\n",
    "```"
   ]
  },
  {
   "cell_type": "code",
   "execution_count": 1,
   "id": "627f9b2c-d3b8-40cb-9ff9-28fd9c918fe1",
   "metadata": {},
   "outputs": [],
   "source": [
    "from datasets import load_dataset\n",
    "import json"
   ]
  },
  {
   "cell_type": "code",
   "execution_count": 2,
   "id": "182fae00-74c9-4317-a5b2-20ae0b050c1e",
   "metadata": {},
   "outputs": [],
   "source": [
    "flan2021 = load_dataset('DataProvenanceInitiative/flan2021_submix_original')"
   ]
  },
  {
   "cell_type": "code",
   "execution_count": 3,
   "id": "24ba3a36-2101-4129-82ca-3779d6e8fa0c",
   "metadata": {},
   "outputs": [],
   "source": [
    "training_dataset = flan2021['train']\n",
    "training_df = training_dataset.to_pandas()"
   ]
  },
  {
   "cell_type": "code",
   "execution_count": 4,
   "id": "f44a3b54-d2eb-4c06-b086-a621d78d1aa9",
   "metadata": {},
   "outputs": [
    {
     "name": "stdout",
     "output_type": "stream",
     "text": [
      "<class 'pandas.core.frame.DataFrame'>\n",
      "RangeIndex: 5362361 entries, 0 to 5362360\n",
      "Data columns (total 5 columns):\n",
      " #   Column         Dtype \n",
      "---  ------         ----- \n",
      " 0   inputs         object\n",
      " 1   targets        object\n",
      " 2   task_source    object\n",
      " 3   task_name      object\n",
      " 4   template_type  object\n",
      "dtypes: object(5)\n",
      "memory usage: 204.6+ MB\n"
     ]
    }
   ],
   "source": [
    "training_df.info()"
   ]
  },
  {
   "cell_type": "code",
   "execution_count": 5,
   "id": "60013ec5-ef7c-4637-8831-89b71e9ee35a",
   "metadata": {},
   "outputs": [
    {
     "data": {
      "text/html": [
       "<div>\n",
       "<style scoped>\n",
       "    .dataframe tbody tr th:only-of-type {\n",
       "        vertical-align: middle;\n",
       "    }\n",
       "\n",
       "    .dataframe tbody tr th {\n",
       "        vertical-align: top;\n",
       "    }\n",
       "\n",
       "    .dataframe thead th {\n",
       "        text-align: right;\n",
       "    }\n",
       "</style>\n",
       "<table border=\"1\" class=\"dataframe\">\n",
       "  <thead>\n",
       "    <tr style=\"text-align: right;\">\n",
       "      <th></th>\n",
       "      <th>inputs</th>\n",
       "      <th>targets</th>\n",
       "      <th>task_source</th>\n",
       "      <th>task_name</th>\n",
       "      <th>template_type</th>\n",
       "    </tr>\n",
       "  </thead>\n",
       "  <tbody>\n",
       "    <tr>\n",
       "      <th>1186847</th>\n",
       "      <td>Read the text and determine if the sentence is...</td>\n",
       "      <td>Yes</td>\n",
       "      <td>Flan2021</td>\n",
       "      <td>anli/r3:0.1.0</td>\n",
       "      <td>zs_opt</td>\n",
       "    </tr>\n",
       "    <tr>\n",
       "      <th>5220183</th>\n",
       "      <td>Question:\\nArticle:The Devon side are yet to p...</td>\n",
       "      <td>UKIP has joined forces with the Greens and oth...</td>\n",
       "      <td>Flan2021</td>\n",
       "      <td>huggingface:xsum</td>\n",
       "      <td>fs_noopt</td>\n",
       "    </tr>\n",
       "    <tr>\n",
       "      <th>1616294</th>\n",
       "      <td>Afteryetanotherlong,coldwinterwearealllongingf...</td>\n",
       "      <td>After yet another long, cold winter we are all...</td>\n",
       "      <td>Flan2021</td>\n",
       "      <td>word_segment</td>\n",
       "      <td>zs_noopt</td>\n",
       "    </tr>\n",
       "    <tr>\n",
       "      <th>1951610</th>\n",
       "      <td>How is \"The gray areas indicate how the patter...</td>\n",
       "      <td>Die beiden grauhinterlegten Enden deuten an, w...</td>\n",
       "      <td>Flan2021</td>\n",
       "      <td>wmt16_translate/de-en:1.0.0</td>\n",
       "      <td>zs_noopt</td>\n",
       "    </tr>\n",
       "    <tr>\n",
       "      <th>4124616</th>\n",
       "      <td>How is \"Sir, do you need help?\" said in Czech?...</td>\n",
       "      <td>Při _připojení</td>\n",
       "      <td>Flan2021</td>\n",
       "      <td>wmt16_translate/cs-en:1.0.0</td>\n",
       "      <td>fs_opt</td>\n",
       "    </tr>\n",
       "    <tr>\n",
       "      <th>4719701</th>\n",
       "      <td>Write a title for this article:\\n\\nHomeowners ...</td>\n",
       "      <td>ParkatmyHouse.com helps property owners raise ...</td>\n",
       "      <td>Flan2021</td>\n",
       "      <td>newsroom:1.0.0</td>\n",
       "      <td>zs_opt</td>\n",
       "    </tr>\n",
       "    <tr>\n",
       "      <th>1699149</th>\n",
       "      <td>Translate \"We must move forward quickly and pr...</td>\n",
       "      <td>Wir müssen in dieser Sache schnell und ordentl...</td>\n",
       "      <td>Flan2021</td>\n",
       "      <td>wmt16_translate/de-en:1.0.0</td>\n",
       "      <td>zs_noopt</td>\n",
       "    </tr>\n",
       "    <tr>\n",
       "      <th>1350308</th>\n",
       "      <td>Translate the following sentence to German:\\nS...</td>\n",
       "      <td>==Auftritte in Star Trek== * [[DS9]] ** {{e|De...</td>\n",
       "      <td>Flan2021</td>\n",
       "      <td>wmt16_translate/de-en:1.0.0</td>\n",
       "      <td>zs_noopt</td>\n",
       "    </tr>\n",
       "    <tr>\n",
       "      <th>2490267</th>\n",
       "      <td>input question: Write a sentence not in Englis...</td>\n",
       "      <td>Ja, die Europäische Union fördert die Mobilitä...</td>\n",
       "      <td>Flan2021</td>\n",
       "      <td>wmt16_translate/de-en:1.0.0</td>\n",
       "      <td>fs_noopt</td>\n",
       "    </tr>\n",
       "    <tr>\n",
       "      <th>2248273</th>\n",
       "      <td>Concepts: flower, grass, summer\\n\\nWrite a sen...</td>\n",
       "      <td>white flower in wavy green grass in the summer</td>\n",
       "      <td>Flan2021</td>\n",
       "      <td>gem/common_gen:1.1.0</td>\n",
       "      <td>zs_opt</td>\n",
       "    </tr>\n",
       "  </tbody>\n",
       "</table>\n",
       "</div>"
      ],
      "text/plain": [
       "                                                    inputs  \\\n",
       "1186847  Read the text and determine if the sentence is...   \n",
       "5220183  Question:\\nArticle:The Devon side are yet to p...   \n",
       "1616294  Afteryetanotherlong,coldwinterwearealllongingf...   \n",
       "1951610  How is \"The gray areas indicate how the patter...   \n",
       "4124616  How is \"Sir, do you need help?\" said in Czech?...   \n",
       "4719701  Write a title for this article:\\n\\nHomeowners ...   \n",
       "1699149  Translate \"We must move forward quickly and pr...   \n",
       "1350308  Translate the following sentence to German:\\nS...   \n",
       "2490267  input question: Write a sentence not in Englis...   \n",
       "2248273  Concepts: flower, grass, summer\\n\\nWrite a sen...   \n",
       "\n",
       "                                                   targets task_source  \\\n",
       "1186847                                                Yes    Flan2021   \n",
       "5220183  UKIP has joined forces with the Greens and oth...    Flan2021   \n",
       "1616294  After yet another long, cold winter we are all...    Flan2021   \n",
       "1951610  Die beiden grauhinterlegten Enden deuten an, w...    Flan2021   \n",
       "4124616                                     Při _připojení    Flan2021   \n",
       "4719701  ParkatmyHouse.com helps property owners raise ...    Flan2021   \n",
       "1699149  Wir müssen in dieser Sache schnell und ordentl...    Flan2021   \n",
       "1350308  ==Auftritte in Star Trek== * [[DS9]] ** {{e|De...    Flan2021   \n",
       "2490267  Ja, die Europäische Union fördert die Mobilitä...    Flan2021   \n",
       "2248273     white flower in wavy green grass in the summer    Flan2021   \n",
       "\n",
       "                           task_name template_type  \n",
       "1186847                anli/r3:0.1.0        zs_opt  \n",
       "5220183             huggingface:xsum      fs_noopt  \n",
       "1616294                 word_segment      zs_noopt  \n",
       "1951610  wmt16_translate/de-en:1.0.0      zs_noopt  \n",
       "4124616  wmt16_translate/cs-en:1.0.0        fs_opt  \n",
       "4719701               newsroom:1.0.0        zs_opt  \n",
       "1699149  wmt16_translate/de-en:1.0.0      zs_noopt  \n",
       "1350308  wmt16_translate/de-en:1.0.0      zs_noopt  \n",
       "2490267  wmt16_translate/de-en:1.0.0      fs_noopt  \n",
       "2248273         gem/common_gen:1.1.0        zs_opt  "
      ]
     },
     "execution_count": 5,
     "metadata": {},
     "output_type": "execute_result"
    }
   ],
   "source": [
    "training_df.sample(10)"
   ]
  },
  {
   "cell_type": "code",
   "execution_count": 6,
   "id": "1a7423de-d58c-451c-b2dc-8d92101a2be2",
   "metadata": {},
   "outputs": [
    {
     "data": {
      "text/plain": [
       "task_name\n",
       "glue/mnli:2.0.0                216560\n",
       "wmt14_translate/fr-en:1.0.0    109197\n",
       "trivia_qa/rc:1.1.0             109120\n",
       "paws_wiki:1.1.0                109019\n",
       "wmt16_translate/fi-en:1.0.0    108923\n",
       "                                ...  \n",
       "unified_qa_science_inst          2135\n",
       "glue/wnli:2.0.0                  2111\n",
       "super_glue/wsc.fixed:1.0.2       1832\n",
       "super_glue/copa:1.0.2            1302\n",
       "super_glue/cb:1.0.2               745\n",
       "Name: count, Length: 70, dtype: int64"
      ]
     },
     "execution_count": 6,
     "metadata": {},
     "output_type": "execute_result"
    }
   ],
   "source": [
    "training_df['task_name'].value_counts()"
   ]
  },
  {
   "cell_type": "code",
   "execution_count": 7,
   "id": "365ae0ac-3937-4386-b610-973fa6d42216",
   "metadata": {},
   "outputs": [
    {
     "data": {
      "text/plain": [
       "task_name\n",
       "glue/mnli:2.0.0                     822\n",
       "gem/wiki_lingua_english_en:1.1.0    438\n",
       "winogrande:1.1.0                    435\n",
       "anli/r2:0.1.0                       433\n",
       "gigaword:1.2.0                      431\n",
       "                                   ... \n",
       "ai2_arc/ARC-Challenge:1.0.0          12\n",
       "unified_qa_science_inst              10\n",
       "glue/wnli:2.0.0                      10\n",
       "super_glue/wsc.fixed:1.0.2            7\n",
       "super_glue/copa:1.0.2                 2\n",
       "Name: count, Length: 69, dtype: int64"
      ]
     },
     "execution_count": 7,
     "metadata": {},
     "output_type": "execute_result"
    }
   ],
   "source": [
    "# Take a small subset of the overall training set\n",
    "sample_subset = training_df.sample(20000, random_state=42)\n",
    "sample_subset['task_name'].value_counts()"
   ]
  },
  {
   "cell_type": "code",
   "execution_count": 8,
   "id": "1e63088b-0ae5-4167-a0c1-49b857ad84d8",
   "metadata": {},
   "outputs": [],
   "source": [
    "# Limit the size of the inputs and targets to less than 2000 characters. \n",
    "# Otherwise we'll get out of memory errors during training. Some examples are very large.\n",
    "size_limit = 2000\n",
    "\n",
    "# Convert to format expected by Mistral \"<s>[INST] User Instruction [/INST] Response</s>\"\n",
    "def convert_to_mistral(entry):\n",
    "    return {'text': f\"<s>[INST]{entry['inputs']} [/INST] {entry['targets']}</s>\"}\n",
    "\n",
    "training_entries = []\n",
    "for index, entry in sample_subset.iterrows():\n",
    "    if (len(entry['inputs']) < size_limit and len(entry['targets']) < size_limit):\n",
    "        training_entries.append(convert_to_mistral(entry))\n",
    "    \n",
    "with open(\"data/fine_tune.jsonl\", 'w') as f:\n",
    "    for training_entry in training_entries:\n",
    "        f.write(json.dumps(training_entry) + \"\\n\")"
   ]
  },
  {
   "cell_type": "code",
   "execution_count": null,
   "id": "a486e901-9374-44ed-a11c-221ca71d1ed5",
   "metadata": {},
   "outputs": [],
   "source": []
  }
 ],
 "metadata": {
  "kernelspec": {
   "display_name": "Python 3 (ipykernel)",
   "language": "python",
   "name": "python3"
  },
  "language_info": {
   "codemirror_mode": {
    "name": "ipython",
    "version": 3
   },
   "file_extension": ".py",
   "mimetype": "text/x-python",
   "name": "python",
   "nbconvert_exporter": "python",
   "pygments_lexer": "ipython3",
   "version": "3.11.6"
  }
 },
 "nbformat": 4,
 "nbformat_minor": 5
}
