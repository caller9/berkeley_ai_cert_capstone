{
 "cells": [
  {
   "cell_type": "markdown",
   "id": "da28ba98-c899-441a-9ea6-a78a7c7c9716",
   "metadata": {},
   "source": [
    "# Retrieval augmented chat - Llama-2-7B-Chat\n",
    "\n",
    "This notebook is the primary demonstration of the project with the baseline model. Here we'll bring up the baseline model and vector database and start asking questions both with and without the vector database."
   ]
  },
  {
   "cell_type": "code",
   "execution_count": 1,
   "id": "ea286197-5a87-4f1b-abc3-bef2298a37c4",
   "metadata": {},
   "outputs": [],
   "source": [
    "import torch\n",
    "from transformers import (\n",
    "    AutoModelForCausalLM,\n",
    "    AutoTokenizer,\n",
    ")"
   ]
  },
  {
   "cell_type": "markdown",
   "id": "d99fd829-3019-4de8-b27c-947c8a7f2d9b",
   "metadata": {},
   "source": [
    "## Initialize some variables"
   ]
  },
  {
   "cell_type": "code",
   "execution_count": 2,
   "id": "5a05ed5f-66ef-4cc5-9813-736405bdefdf",
   "metadata": {},
   "outputs": [],
   "source": [
    "collection_name = \"Corpus\"\n",
    "model_dir = \"meta-llama/Llama-2-7b-chat-hf\"\n",
    "device_map = {\"\": 0}\n",
    "device = \"cuda\"\n",
    "database_top_n_results = 2"
   ]
  },
  {
   "cell_type": "markdown",
   "id": "050a9d7d-1e12-4e0e-a308-50dd0725428b",
   "metadata": {},
   "source": [
    "## Load shared code\n",
    "This file defines the `ChatModel` and `Retrieval` classes used below."
   ]
  },
  {
   "cell_type": "code",
   "execution_count": 3,
   "id": "19aff328-00b9-4971-bfaa-ff9b579c1938",
   "metadata": {},
   "outputs": [],
   "source": [
    "%run shared_code.ipynb"
   ]
  },
  {
   "cell_type": "markdown",
   "id": "acde5370-9aa9-4138-8e0e-a52e17c0f6db",
   "metadata": {},
   "source": [
    "## Load the model"
   ]
  },
  {
   "cell_type": "code",
   "execution_count": 4,
   "id": "49a41d92-5a28-4668-8e8b-2f37bf0180e3",
   "metadata": {},
   "outputs": [
    {
     "data": {
      "application/vnd.jupyter.widget-view+json": {
       "model_id": "bf5955440d3643419c15307e28444dfb",
       "version_major": 2,
       "version_minor": 0
      },
      "text/plain": [
       "Loading checkpoint shards:   0%|          | 0/2 [00:00<?, ?it/s]"
      ]
     },
     "metadata": {},
     "output_type": "display_data"
    }
   ],
   "source": [
    "language_model = AutoModelForCausalLM.from_pretrained(\n",
    "    model_dir,\n",
    "    low_cpu_mem_usage=True,\n",
    "    return_dict=True,\n",
    "    torch_dtype=torch.float16,\n",
    "    device_map=device_map,\n",
    ")\n",
    "\n",
    "tokenizer = AutoTokenizer.from_pretrained(model_dir)\n",
    "tokenizer.pad_token = tokenizer.eos_token\n",
    "tokenizer.padding_side = \"right\""
   ]
  },
  {
   "cell_type": "markdown",
   "id": "7633c44f-acce-4ad5-9ded-434fe3f88b0d",
   "metadata": {},
   "source": [
    "## Load the model into the ChatModel class from `shared_code.ipynb`"
   ]
  },
  {
   "cell_type": "code",
   "execution_count": 5,
   "id": "804c5685-8021-4a4e-a055-392d9dca611a",
   "metadata": {},
   "outputs": [],
   "source": [
    "chat_model = ChatModel(language_model, tokenizer)"
   ]
  },
  {
   "cell_type": "markdown",
   "id": "160c18cc-2fd8-46b5-a107-1d21c494187a",
   "metadata": {},
   "source": [
    "## Trying the model without access to the vector database."
   ]
  },
  {
   "cell_type": "code",
   "execution_count": 6,
   "id": "551660eb-3f81-434e-8029-f0babd9b7969",
   "metadata": {},
   "outputs": [
    {
     "name": "stdout",
     "output_type": "stream",
     "text": [
      " To loop a GIF, you can use the `loop` attribute in the `<img>` tag. Here's an example:\n",
      "```\n",
      "<img src=\"your_gif_url\" alt=\"Your Image Text\" loop>\n",
      "```\n",
      "This will make the GIF repeat indefinitely. You can also set the duration of the loop by using the `duration` attribute, like this:\n",
      "```\n",
      "<img src=\"your_gif_url\" alt=\"Your Image Text\" loop duration=\"5\">\n",
      "```\n",
      "In this case, the GIF will repeat for 5 seconds before repeating again.\n",
      "\n",
      "Alternatively, if you want to loop the GIF only once, you can use the `once` attribute instead of `loop`:\n",
      "```\n",
      "<img src=\"your_gif_url\" alt=\"Your Image Text\" once>\n",
      "```\n",
      "Note that not all browsers support the `loop` and `once` attributes, so it's always a good idea to provide fallback options for non-supporting browsers.\n"
     ]
    }
   ],
   "source": [
    "chat_model.basic_chat(\"How do I loop a GIF?\")"
   ]
  },
  {
   "cell_type": "markdown",
   "id": "c8fdc2dc-5fc0-49c0-8ca9-adb3fa5da4a2",
   "metadata": {},
   "source": [
    "## Load the collection into the RetrievalAugmentedChat class from `shared_code.ipynb`"
   ]
  },
  {
   "cell_type": "code",
   "execution_count": 7,
   "id": "f0748c25-95f1-45cd-a547-03eaa212f918",
   "metadata": {},
   "outputs": [],
   "source": [
    "rac = RetrievalAugmentedChat(\"db/\", collection_name, database_top_n_results, chat_model)"
   ]
  },
  {
   "cell_type": "markdown",
   "id": "8476ee89-d947-44e2-9c82-6797396cd3b2",
   "metadata": {},
   "source": [
    "## Run retrieval augmented chat\n",
    "Notice that the responses have switched from a general HTML/JavaScript context to include the document contents which provide examples of encoding the gif with ImageMagick so that it loops by default."
   ]
  },
  {
   "cell_type": "code",
   "execution_count": 8,
   "id": "29b0024a-5c2d-42bf-bbba-3533b3cf2fb1",
   "metadata": {},
   "outputs": [
    {
     "data": {
      "text/markdown": [
       " To loop a GIF using ImageMagick, you can use the `mogrify` tool with the `-loop` option. Here's an example of how to loop a GIF called `chrome-samesite-missing.gif`:\n",
       "\n",
       "First, make sure you have ImageMagick installed on your system. On macOS, you can install ImageMagick using Homebrew:\n",
       "\n",
       "```\n",
       "brew install imagemagick\n",
       "```\n",
       "Next, open a terminal window and navigate to the directory where your GIF is located:\n",
       "\n",
       "```\n",
       "cd /path/to/your/directory\n",
       "```\n",
       "Now, run the following command to loop your GIF:\n",
       "\n",
       "```\n",
       "mogrify -loop 0 chrome-samesite-missing.gif\n",
       "```\n",
       "The `-loop 0` option tells ImageMagick to loop the GIF indefinitely. If you want to set the loop count explicitly, you can replace `0` with the desired value, such as `10`. For example:\n",
       "\n",
       "```\n",
       "mogrify -loop 10 chrome-samesite-missing.gif\n",
       "```\n",
       "This will loop the GIF 10 times.\n",
       "\n",
       "Alternatively, you can use the `animate` command to loop the GIF:\n",
       "\n",
       "```\n",
       "animate chrome-samesite-missing.gif\n",
       "```\n",
       "This will also loop the GIF indefinitely.\n",
       "\n",
       "You can also combine the `mogrify` and `animate` commands to loop the GIF while compressing it simultaneously:\n",
       "\n",
       "```\n",
       "mogrify -loop 0 -quality 70 chrome-samesite-missing.gif | animate\n",
       "```\n",
       "In this case, the `-quality 70` option sets the compression quality to 70%, which can help reduce the file size of the compressed GIF while maintaining its quality.\n",
       "\n",
       "If you want to loop the GIF only part of the time, you can use the `montage` command with the `-loops` option:\n",
       "\n",
       "```\n",
       "montage -loops 50 chrome-samesite-missing.gif\n",
       "```\n",
       "This will loop the GIF every 50 milliseconds. Adjust the value of `-loops` to change the loop frequency.\n",
       "\n",
       "Finally, if you want to create a new GIF file that loops continuously rather than modifying the existing one, you can use the `mogrify` command with the `-outfile` option:\n",
       "\n",
       "```\n",
       "mogrify -loop 0 -outfile looped_chrome-samesite-missing.gif chrome-samesite-missing.gif\n",
       "```\n",
       "This will create a new GIF file named `looped_chrome-samesite-missing.gif` that loops continuously.\n",
       "\n",
       " **Reference documents:** \n",
       "\n",
       "* [corpus/imagemagick/set-a-gif-to-loop.md](corpus/imagemagick/set-a-gif-to-loop.md) distance: 0.97\n",
       "* [corpus/imagemagick/compress-animated-gif.md](corpus/imagemagick/compress-animated-gif.md) distance: 1.28\n",
       "\n",
       "**Inference time in seconds 12.1914**\n"
      ],
      "text/plain": [
       "<IPython.core.display.Markdown object>"
      ]
     },
     "metadata": {},
     "output_type": "display_data"
    }
   ],
   "source": [
    "rac.markdown_chat(\"How do I loop a GIF?\")"
   ]
  },
  {
   "cell_type": "code",
   "execution_count": 9,
   "id": "bbd178ea-8f8d-4a0f-a4ce-9bcde8dffd6d",
   "metadata": {},
   "outputs": [
    {
     "data": {
      "text/markdown": [
       " Yes, you can use `npx` with GitHub Actions. In fact, you can leverage the built-in caching mechanism provided by GitHub Actions through the `actions/cache` action to improve the performance of your workflows. Here's how you can do it:\n",
       "\n",
       "1. First, make sure you have the `actions/cache` action installed in your repository. You can install it by running the following command in your terminal:\n",
       "```bash\n",
       "npm install actions-cache\n",
       "```\n",
       "2. Next, define the `uses` section in your workflow file to use the `actions/cache` action. For example:\n",
       "```yaml\n",
       "uses: actions/cache @v2\n",
       "```\n",
       "This will enable the caching mechanism for all subsequent workflow steps.\n",
       "3. To cache the output of a `npx` command, you can use the `cache` directive within the workflow step that invokes the command. For instance:\n",
       "```yaml\n",
       "- name: Install dependencies\n",
       "  run:\n",
       "    npx install --production &&\n",
       "    cache:\n",
       "      keys: [\"dependencies\"]\n",
       "```\n",
       "In this example, the `npx install --production` command is executed first, and its output is cached under the key \"dependencies\". If you run this workflow again, the next execution will skip the installation step and directly use the cached output instead.\n",
       "4. To retrieve the cached output later in the same workflow, you can use the `useCache` directives followed by the path to the cached item. For example:\n",
       "```yaml\n",
       "- name: Run tests\n",
       "  run:\n",
       "    useCache:\n",
       "      paths: [\"dependencies\"]\n",
       "    npx test\n",
       "```\n",
       "In this scenario, the `test` command will be executed using the cached output of the `install` command.\n",
       "5. Note that the `actions/cache` action does not support caching packages that are not present in the `package.json` file. Therefore, if you want to cache tools or scripts that are invoked using `npx`, you may need to specify the cache key manually using the `cache-key` property. For instance:\n",
       "```yaml\n",
       "cache-key: \"custom-tool\"\n",
       "run:\n",
       "  npx custom-tool > /dev/null\n",
       "```\n",
       "In this case, the output of the `npx custom-tool` command will be cached under the key \"custom-tool\".\n",
       "6. Finally, keep in mind that the `actions/cache` action only caches outputs that are marked as `outputs`. Therefore, if you want to cache the output of a `npx` command that does not produce any explicit outputs, you may need to add an `outputs` section to your workflow step definition. For example:\n",
       "```yaml\n",
       "run:\n",
       "  npx my-command &> /dev/null\n",
       "  outputs:\n",
       "    my-output: ${{ steps.my-command.outputs.my-output }}\n",
       "```\n",
       "In this scenario, the output of the `my-command` command will be captured and stored in the `my-output` variable, which can then be used as input to other workflow steps.\n",
       "\n",
       "Overall, using `npx` with GitHub Actions can significantly improve the performance of your workflows by leveraging the built-in caching mechanism. Just remember to properly configure the `cache` and `useCache` directives to ensure that your workflows work correctly across different environments and scenarios.\n",
       "\n",
       " **Reference documents:** \n",
       "\n",
       "* [corpus/github-actions/npm-cache-with-npx-no-package.md](corpus/github-actions/npm-cache-with-npx-no-package.md) distance: 0.88\n",
       "* [corpus/github-actions/attach-generated-file-to-release.md](corpus/github-actions/attach-generated-file-to-release.md) distance: 1.11\n",
       "\n",
       "**Inference time in seconds 14.5672**\n"
      ],
      "text/plain": [
       "<IPython.core.display.Markdown object>"
      ]
     },
     "metadata": {},
     "output_type": "display_data"
    }
   ],
   "source": [
    "rac.markdown_chat(\"Can I use npx with GitHub actions?\")"
   ]
  },
  {
   "cell_type": "code",
   "execution_count": null,
   "id": "69e3ed6c-25c5-43b4-a3fb-b7dc52dba8df",
   "metadata": {},
   "outputs": [],
   "source": []
  }
 ],
 "metadata": {
  "kernelspec": {
   "display_name": "Python 3 (ipykernel)",
   "language": "python",
   "name": "python3"
  },
  "language_info": {
   "codemirror_mode": {
    "name": "ipython",
    "version": 3
   },
   "file_extension": ".py",
   "mimetype": "text/x-python",
   "name": "python",
   "nbconvert_exporter": "python",
   "pygments_lexer": "ipython3",
   "version": "3.11.6"
  }
 },
 "nbformat": 4,
 "nbformat_minor": 5
}
