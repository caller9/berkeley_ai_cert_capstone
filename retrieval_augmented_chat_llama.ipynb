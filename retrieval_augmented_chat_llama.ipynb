{
 "cells": [
  {
   "cell_type": "markdown",
   "id": "da28ba98-c899-441a-9ea6-a78a7c7c9716",
   "metadata": {},
   "source": [
    "# Retrieval augmented chat - Llama-2-7B-Chat\n",
    "\n",
    "This notebook is the primary demonstration of the project with the baseline model. Here we'll bring up the baseline model and vector database and start asking questions both with and without the vector database."
   ]
  },
  {
   "cell_type": "code",
   "execution_count": 1,
   "id": "ea286197-5a87-4f1b-abc3-bef2298a37c4",
   "metadata": {},
   "outputs": [],
   "source": [
    "import torch\n",
    "from transformers import (\n",
    "    AutoModelForCausalLM,\n",
    "    AutoTokenizer,\n",
    ")"
   ]
  },
  {
   "cell_type": "markdown",
   "id": "d99fd829-3019-4de8-b27c-947c8a7f2d9b",
   "metadata": {},
   "source": [
    "## Initialize some variables"
   ]
  },
  {
   "cell_type": "code",
   "execution_count": 2,
   "id": "5a05ed5f-66ef-4cc5-9813-736405bdefdf",
   "metadata": {},
   "outputs": [],
   "source": [
    "collection_name = \"Corpus\"\n",
    "model_dir = \"meta-llama/Llama-2-7b-chat-hf\"\n",
    "device_map = {\"\": 0}\n",
    "device = \"cuda\"\n",
    "database_top_n_results = 2"
   ]
  },
  {
   "cell_type": "markdown",
   "id": "050a9d7d-1e12-4e0e-a308-50dd0725428b",
   "metadata": {},
   "source": [
    "## Load shared code\n",
    "This file defines the `ChatModel` and `Retrieval` classes used below."
   ]
  },
  {
   "cell_type": "code",
   "execution_count": 3,
   "id": "19aff328-00b9-4971-bfaa-ff9b579c1938",
   "metadata": {},
   "outputs": [],
   "source": [
    "%run shared_code.ipynb"
   ]
  },
  {
   "cell_type": "markdown",
   "id": "acde5370-9aa9-4138-8e0e-a52e17c0f6db",
   "metadata": {},
   "source": [
    "## Load the model"
   ]
  },
  {
   "cell_type": "code",
   "execution_count": 4,
   "id": "49a41d92-5a28-4668-8e8b-2f37bf0180e3",
   "metadata": {},
   "outputs": [
    {
     "data": {
      "application/vnd.jupyter.widget-view+json": {
       "model_id": "ccfc2f3a941a49a6ac9e673a6d725737",
       "version_major": 2,
       "version_minor": 0
      },
      "text/plain": [
       "Loading checkpoint shards:   0%|          | 0/2 [00:00<?, ?it/s]"
      ]
     },
     "metadata": {},
     "output_type": "display_data"
    }
   ],
   "source": [
    "language_model = AutoModelForCausalLM.from_pretrained(\n",
    "    model_dir,\n",
    "    low_cpu_mem_usage=True,\n",
    "    return_dict=True,\n",
    "    torch_dtype=torch.float16,\n",
    "    device_map=device_map,\n",
    ")\n",
    "\n",
    "tokenizer = AutoTokenizer.from_pretrained(model_dir)\n",
    "tokenizer.pad_token = tokenizer.eos_token\n",
    "tokenizer.padding_side = \"right\""
   ]
  },
  {
   "cell_type": "markdown",
   "id": "7633c44f-acce-4ad5-9ded-434fe3f88b0d",
   "metadata": {},
   "source": [
    "## Load the model into the ChatModel class from `shared_code.ipynb`"
   ]
  },
  {
   "cell_type": "code",
   "execution_count": 5,
   "id": "804c5685-8021-4a4e-a055-392d9dca611a",
   "metadata": {},
   "outputs": [],
   "source": [
    "chat_model = ChatModel(language_model, tokenizer)"
   ]
  },
  {
   "cell_type": "markdown",
   "id": "160c18cc-2fd8-46b5-a107-1d21c494187a",
   "metadata": {},
   "source": [
    "## Trying the model without access to the vector database."
   ]
  },
  {
   "cell_type": "code",
   "execution_count": 6,
   "id": "551660eb-3f81-434e-8029-f0babd9b7969",
   "metadata": {},
   "outputs": [
    {
     "name": "stdout",
     "output_type": "stream",
     "text": [
      " There are a few ways to loop a GIF, depending on the context and the tool or software you are using. Here are a few common methods:\n",
      "\n",
      "1. Online GIF editors: Many online GIF editors, such as Giphy or Tenor, allow you to loop a GIF by simply clicking on the \"Loop\" or \"Repeat\" button. This will repeat the GIF indefinitely.\n",
      "2. Image editing software: If you are using image editing software like Adobe Photoshop or GIMP, you can use the \"Animate\" or \"Loop\" function to loop a GIF. This function allows you to create a looped animation from a series of images, including GIFs.\n",
      "3. Web browsers: Some web browsers, such as Google Chrome or Mozilla Firefox, allow you to loop a GIF by right-clicking on the GIF and selecting \"Loop\" or \"Repeat\".\n",
      "4. Code: If you want to loop a GIF on a website or blog, you can use HTML and JavaScript code to create a loop. Here's an example of how to do this:\n",
      "```\n",
      "<img src=\"path/to/your/gif\" alt=\"Your GIF\" loop=\"infinite\">\n",
      "```\n",
      "This will loop the GIF indefinitely. You can also use JavaScript to create a loop by adding the following code to your website:\n",
      "```\n",
      "<script>\n",
      "  var gif = document.getElementById(\"myGif\");\n",
      "  gif.loop = true;\n",
      "</script>\n",
      "```\n",
      "This will loop the GIF indefinitely.\n",
      "\n",
      "It's important to note that some GIFs may not loop correctly due to their size or format. If you're having trouble getting a GIF to loop, try reducing its size or converting it to a different format.\n"
     ]
    }
   ],
   "source": [
    "chat_model.basic_chat(\"How do I loop a GIF?\")"
   ]
  },
  {
   "cell_type": "markdown",
   "id": "c8fdc2dc-5fc0-49c0-8ca9-adb3fa5da4a2",
   "metadata": {},
   "source": [
    "## Load the collection into the RetrievalAugmentedChat class from `shared_code.ipynb`"
   ]
  },
  {
   "cell_type": "code",
   "execution_count": 7,
   "id": "f0748c25-95f1-45cd-a547-03eaa212f918",
   "metadata": {},
   "outputs": [],
   "source": [
    "rac = RetrievalAugmentedChat(\"db/\", collection_name, database_top_n_results, chat_model)"
   ]
  },
  {
   "cell_type": "markdown",
   "id": "8476ee89-d947-44e2-9c82-6797396cd3b2",
   "metadata": {},
   "source": [
    "## Run retrieval augmented chat\n",
    "Notice that the responses have switched from a general HTML/JavaScript context to include the document contents which provide examples of encoding the gif with ImageMagick so that it loops by default."
   ]
  },
  {
   "cell_type": "code",
   "execution_count": 8,
   "id": "29b0024a-5c2d-42bf-bbba-3533b3cf2fb1",
   "metadata": {},
   "outputs": [
    {
     "data": {
      "text/markdown": [
       " To loop a GIF, you can use the `-loop` option in the ImageMagick command. The syntax for this option is as follows:\n",
       "```\n",
       "mogrify -loop <num> input.gif\n",
       "```\n",
       "Where `<num>` is the number of times you want the GIF to loop. For example, to loop a GIF 5 times, you would use the command:\n",
       "```\n",
       "mogrify -loop 5 input.gif\n",
       "```\n",
       "Alternatively, you can use the `-loop count` option, which allows you to specify the number of loops in a more concise way:\n",
       "```\n",
       "mogrify -loop count input.gif\n",
       "```\n",
       "It's important to note that the `-loop` option only works on animated GIFs, as it relies on the GIF's timeline information to loop the animation. If the GIF is not animated, the `-loop` option will have no effect.\n",
       "\n",
       "In your case, you want to loop a GIF that you accidentally made without the `-loop` option. You can use the `mogrify` command with the `-loop` option to loop the GIF:\n",
       "```\n",
       "mogrify -loop 0 chrome-samesite-missing.gif\n",
       "```\n",
       "This will create a new GIF file called `chrome-samesite-missing-loop.gif` that loops the original animation indefinitely.\n",
       "\n",
       "Another option for looping a GIF is to use the `convert` command with the `-loop` option:\n",
       "```\n",
       "convert chrome-samesite-missing.gif -loop 0 chrome-samesite-missing-loop.gif\n",
       "```\n",
       "This will also create a new GIF file that loops the original animation indefinitely.\n",
       "\n",
       "In your previous question, you mentioned that you installed ImageMagick on macOS using `brew install imagemagick`. To use the `mogrify` command, you can simply open a terminal and run the command:\n",
       "```\n",
       "mogrify -loop 0 input.gif\n",
       "```\n",
       "Where `input.gif` is the name of the GIF file you want to loop.\n",
       "\n",
       "You can also use the `convert` command to loop a GIF, like this:\n",
       "```\n",
       "convert input.gif -loop 0 output.gif\n",
       "```\n",
       "Again, where `input.gif` is the name of the GIF file you want to loop, and `output.gif` is the name of the new, looped GIF file.\n",
       "\n",
       "I hope this helps! Let me know if you have any other questions.\n",
       "\n",
       " **Reference documents:** \n",
       "\n",
       "* [corpus/imagemagick/set-a-gif-to-loop.md](corpus/imagemagick/set-a-gif-to-loop.md) distance: 0.97\n",
       "* [corpus/imagemagick/compress-animated-gif.md](corpus/imagemagick/compress-animated-gif.md) distance: 1.28\n",
       "\n",
       "**Inference time in seconds 11.3920**\n"
      ],
      "text/plain": [
       "<IPython.core.display.Markdown object>"
      ]
     },
     "metadata": {},
     "output_type": "display_data"
    }
   ],
   "source": [
    "rac.markdown_chat(\"How do I loop a GIF?\")"
   ]
  },
  {
   "cell_type": "code",
   "execution_count": 9,
   "id": "bbd178ea-8f8d-4a0f-a4ce-9bcde8dffd6d",
   "metadata": {},
   "outputs": [
    {
     "data": {
      "text/markdown": [
       " Yes, you can use `npx` with GitHub Actions. In fact, you can use any command-line tool or utility that you would normally use in a Node.js project, including `npx`.\n",
       "\n",
       "To use `npx` with GitHub Actions, you can leverage the `actions/cache` mechanism, which allows you to cache dependencies and other assets between runs of your workflow.\n",
       "\n",
       "Here's an example of how you can use `npx` in a GitHub Actions workflow:\n",
       "\n",
       "1. In your workflow file, use the `uses` keyword to install the `actions/cache` action:\n",
       "```yaml\n",
       "uses: actions/cache@v2\n",
       "```\n",
       "2. In your workflow, use the `cache` keyword to specify the cache key. The cache key should be a unique identifier for your workflow, and it can be a file path, a directory path, or a URL. For example:\n",
       "```yaml\n",
       "cache:\n",
       "  - keys:\n",
       "    - ${{ steps.cache-npx.outputs.cache-key }}\n",
       "    - ${{ env.GITHUB_ACTION_ROLE }}\n",
       "```\n",
       "In this example, the cache key is the output of the `cache-npx` step, which is a file path.\n",
       "\n",
       "3. Use the `npx` command in your workflow, just like you would in a Node.js project:\n",
       "```yaml\n",
       "  - name: Install dependencies\n",
       "    run: npx install\n",
       "  - name: Run a script\n",
       "    run: npx run-script.js\n",
       "```\n",
       "The `npx` command will be executed in the context of the cache, so it will use the cached dependencies instead of downloading them again.\n",
       "\n",
       "4. To invalidate the cache for a specific step, you can use the `invalidateCache` keyword. For example:\n",
       "```yaml\n",
       "  - name: Install dependencies\n",
       "    run: npx install\n",
       "    invalidateCache: true\n",
       "```\n",
       "This will invalidate the cache for the `install` step, so the next time the workflow runs, the `npx install` command will download the dependencies again.\n",
       "\n",
       "5. To cache the output of a step, you can use the `cache` keyword with the `outputs` keyword. For example:\n",
       "```yaml\n",
       "  - name: Run a script\n",
       "    run: npx run-script.js\n",
       "    outputs:\n",
       "      - cache-key\n",
       "    cache: ${{ steps.cache-npx.outputs.cache-key }}\n",
       "```\n",
       "This will cache the output of the `run-script.js` step, so the next time the workflow runs, the `npx run-script.js` command will use the cached output instead of running the script again.\n",
       "\n",
       "In summary, you can use `npx` with GitHub Actions by leveraging the `actions/cache` mechanism and specifying the cache key appropriately. This allows you to cache dependencies and other assets between runs of your workflow, which can improve the performance and efficiency of your workflows.\n",
       "\n",
       " **Reference documents:** \n",
       "\n",
       "* [corpus/github-actions/npm-cache-with-npx-no-package.md](corpus/github-actions/npm-cache-with-npx-no-package.md) distance: 0.88\n",
       "* [corpus/github-actions/attach-generated-file-to-release.md](corpus/github-actions/attach-generated-file-to-release.md) distance: 1.11\n",
       "\n",
       "**Inference time in seconds 13.0496**\n"
      ],
      "text/plain": [
       "<IPython.core.display.Markdown object>"
      ]
     },
     "metadata": {},
     "output_type": "display_data"
    }
   ],
   "source": [
    "rac.markdown_chat(\"Can I use npx with GitHub actions?\")"
   ]
  },
  {
   "cell_type": "code",
   "execution_count": null,
   "id": "69e3ed6c-25c5-43b4-a3fb-b7dc52dba8df",
   "metadata": {},
   "outputs": [],
   "source": []
  }
 ],
 "metadata": {
  "kernelspec": {
   "display_name": "Python 3 (ipykernel)",
   "language": "python",
   "name": "python3"
  },
  "language_info": {
   "codemirror_mode": {
    "name": "ipython",
    "version": 3
   },
   "file_extension": ".py",
   "mimetype": "text/x-python",
   "name": "python",
   "nbconvert_exporter": "python",
   "pygments_lexer": "ipython3",
   "version": "3.11.6"
  }
 },
 "nbformat": 4,
 "nbformat_minor": 5
}
